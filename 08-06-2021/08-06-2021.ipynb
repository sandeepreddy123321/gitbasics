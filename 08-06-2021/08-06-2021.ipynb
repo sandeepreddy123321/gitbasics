{
 "cells": [
  {
   "cell_type": "markdown",
   "id": "39bec127",
   "metadata": {},
   "source": [
    "## oops\n",
    "- class\n",
    "- methods\n",
    "- object\n",
    "- constructor\n",
    "- packages and modules by using classes.\n",
    "- inheritance"
   ]
  },
  {
   "cell_type": "markdown",
   "id": "4c95d280",
   "metadata": {},
   "source": [
    "## class\n",
    "class is a collector of variables and methods.\n"
   ]
  },
  {
   "cell_type": "markdown",
   "id": "4af0209f",
   "metadata": {},
   "source": [
    "## rules to define class\n",
    "- should not start with number\n",
    "- not to use keywords."
   ]
  },
  {
   "cell_type": "code",
   "execution_count": 2,
   "id": "0ab99a1c",
   "metadata": {},
   "outputs": [],
   "source": [
    "class HI:\n",
    "    name,rollnumber = \"APSSDC\", 503\n",
    "    def msg():\n",
    "        print(\"welcome, i am from msg()\")"
   ]
  },
  {
   "cell_type": "code",
   "execution_count": 3,
   "id": "7431cfc7",
   "metadata": {},
   "outputs": [
    {
     "data": {
      "text/plain": [
       "'APSSDC'"
      ]
     },
     "execution_count": 3,
     "metadata": {},
     "output_type": "execute_result"
    }
   ],
   "source": [
    "HI.name"
   ]
  },
  {
   "cell_type": "code",
   "execution_count": 4,
   "id": "2cbb0e34",
   "metadata": {},
   "outputs": [
    {
     "data": {
      "text/plain": [
       "503"
      ]
     },
     "execution_count": 4,
     "metadata": {},
     "output_type": "execute_result"
    }
   ],
   "source": [
    "HI.rollnumber"
   ]
  },
  {
   "cell_type": "code",
   "execution_count": 5,
   "id": "ffbf3602",
   "metadata": {},
   "outputs": [
    {
     "name": "stdout",
     "output_type": "stream",
     "text": [
      "welcome,i am from msg()\n"
     ]
    }
   ],
   "source": [
    "HI.msg()"
   ]
  },
  {
   "cell_type": "code",
   "execution_count": 6,
   "id": "8dfba773",
   "metadata": {},
   "outputs": [
    {
     "name": "stdout",
     "output_type": "stream",
     "text": [
      "['__class__', '__delattr__', '__dict__', '__dir__', '__doc__', '__eq__', '__format__', '__ge__', '__getattribute__', '__gt__', '__hash__', '__init__', '__init_subclass__', '__le__', '__lt__', '__module__', '__ne__', '__new__', '__reduce__', '__reduce_ex__', '__repr__', '__setattr__', '__sizeof__', '__str__', '__subclasshook__', '__weakref__', 'msg', 'name', 'rollnumber']\n"
     ]
    }
   ],
   "source": [
    "print(dir(HI))"
   ]
  },
  {
   "cell_type": "markdown",
   "id": "797372a1",
   "metadata": {},
   "source": [
    "## object\n",
    "- entity of a class.\n",
    "- real world entity."
   ]
  },
  {
   "cell_type": "code",
   "execution_count": 10,
   "id": "d473ef8b",
   "metadata": {},
   "outputs": [],
   "source": [
    "obj = HI\n"
   ]
  },
  {
   "cell_type": "code",
   "execution_count": 11,
   "id": "ed993c85",
   "metadata": {},
   "outputs": [
    {
     "data": {
      "text/plain": [
       "'APSSDC'"
      ]
     },
     "execution_count": 11,
     "metadata": {},
     "output_type": "execute_result"
    }
   ],
   "source": [
    "obj.name"
   ]
  },
  {
   "cell_type": "code",
   "execution_count": 12,
   "id": "3539772c",
   "metadata": {},
   "outputs": [
    {
     "name": "stdout",
     "output_type": "stream",
     "text": [
      "welcome,i am from msg()\n"
     ]
    }
   ],
   "source": [
    "obj.msg()"
   ]
  },
  {
   "cell_type": "code",
   "execution_count": 3,
   "id": "0c30f44a",
   "metadata": {},
   "outputs": [],
   "source": [
    "class calsi:\n",
    "    def add(n1,n2):\n",
    "        return n1+n2\n",
    "    def sub(n1,n2):\n",
    "        return n1-n2\n",
    "    def mul(var1,var2):\n",
    "        return var1 * var2\n",
    "    def div(var1,var2):\n",
    "        return var1/var2\n",
    "    def exp(var1,var2):\n",
    "        return var1**var2"
   ]
  },
  {
   "cell_type": "code",
   "execution_count": 4,
   "id": "5d9c575c",
   "metadata": {},
   "outputs": [],
   "source": [
    "cal = calsi"
   ]
  },
  {
   "cell_type": "code",
   "execution_count": 18,
   "id": "5596dabd",
   "metadata": {},
   "outputs": [
    {
     "data": {
      "text/plain": [
       "45"
      ]
     },
     "execution_count": 18,
     "metadata": {},
     "output_type": "execute_result"
    }
   ],
   "source": [
    "cal.add(22,23)"
   ]
  },
  {
   "cell_type": "code",
   "execution_count": 19,
   "id": "fdbde08a",
   "metadata": {},
   "outputs": [
    {
     "data": {
      "text/plain": [
       "10"
      ]
     },
     "execution_count": 19,
     "metadata": {},
     "output_type": "execute_result"
    }
   ],
   "source": [
    "cal.sub(20,10)"
   ]
  },
  {
   "cell_type": "code",
   "execution_count": 20,
   "id": "7f329ba2",
   "metadata": {},
   "outputs": [
    {
     "data": {
      "text/plain": [
       "80"
      ]
     },
     "execution_count": 20,
     "metadata": {},
     "output_type": "execute_result"
    }
   ],
   "source": [
    "cal.sub(100,20)"
   ]
  },
  {
   "cell_type": "code",
   "execution_count": 21,
   "id": "aed41556",
   "metadata": {},
   "outputs": [
    {
     "data": {
      "text/plain": [
       "50.0"
      ]
     },
     "execution_count": 21,
     "metadata": {},
     "output_type": "execute_result"
    }
   ],
   "source": [
    "cal.div(100,2)"
   ]
  },
  {
   "cell_type": "code",
   "execution_count": 22,
   "id": "30c6a98f",
   "metadata": {},
   "outputs": [
    {
     "data": {
      "text/plain": [
       "6"
      ]
     },
     "execution_count": 22,
     "metadata": {},
     "output_type": "execute_result"
    }
   ],
   "source": [
    "cal.mul(2,3)"
   ]
  },
  {
   "cell_type": "code",
   "execution_count": 23,
   "id": "cce379d4",
   "metadata": {},
   "outputs": [
    {
     "data": {
      "text/plain": [
       "56"
      ]
     },
     "execution_count": 23,
     "metadata": {},
     "output_type": "execute_result"
    }
   ],
   "source": [
    "cal.add(22,34)"
   ]
  },
  {
   "cell_type": "code",
   "execution_count": 19,
   "id": "f9df7a59",
   "metadata": {},
   "outputs": [
    {
     "data": {
      "text/plain": [
       "35"
      ]
     },
     "execution_count": 19,
     "metadata": {},
     "output_type": "execute_result"
    }
   ],
   "source": [
    "cal.add(12,23)"
   ]
  },
  {
   "cell_type": "code",
   "execution_count": 24,
   "id": "09225beb",
   "metadata": {},
   "outputs": [
    {
     "data": {
      "text/plain": [
       "5.0"
      ]
     },
     "execution_count": 24,
     "metadata": {},
     "output_type": "execute_result"
    }
   ],
   "source": [
    "cal.div(100,20)"
   ]
  },
  {
   "cell_type": "code",
   "execution_count": 14,
   "id": "62a0adf3",
   "metadata": {},
   "outputs": [],
   "source": [
    "cal1 = calsi()"
   ]
  },
  {
   "cell_type": "code",
   "execution_count": 6,
   "id": "8a32c1e3",
   "metadata": {},
   "outputs": [
    {
     "ename": "NameError",
     "evalue": "name 'cal1' is not defined",
     "output_type": "error",
     "traceback": [
      "\u001b[1;31m---------------------------------------------------------------------------\u001b[0m",
      "\u001b[1;31mNameError\u001b[0m                                 Traceback (most recent call last)",
      "\u001b[1;32m<ipython-input-6-343f44c076fd>\u001b[0m in \u001b[0;36m<module>\u001b[1;34m\u001b[0m\n\u001b[1;32m----> 1\u001b[1;33m \u001b[0mcal1\u001b[0m\u001b[1;33m.\u001b[0m\u001b[0madd\u001b[0m\u001b[1;33m(\u001b[0m\u001b[1;36m21\u001b[0m\u001b[1;33m,\u001b[0m\u001b[1;36m22\u001b[0m\u001b[1;33m)\u001b[0m\u001b[1;33m\u001b[0m\u001b[1;33m\u001b[0m\u001b[0m\n\u001b[0m",
      "\u001b[1;31mNameError\u001b[0m: name 'cal1' is not defined"
     ]
    }
   ],
   "source": [
    "cal1.add(21,22)"
   ]
  },
  {
   "cell_type": "code",
   "execution_count": 5,
   "id": "954ef20f",
   "metadata": {},
   "outputs": [
    {
     "data": {
      "text/plain": [
       "8"
      ]
     },
     "execution_count": 5,
     "metadata": {},
     "output_type": "execute_result"
    }
   ],
   "source": [
    "cal.exp(2,3)"
   ]
  },
  {
   "cell_type": "markdown",
   "id": "deaff344",
   "metadata": {},
   "source": [
    "## constructor: is a special method in python\n",
    "- ex:__init__()\n",
    "- it will execute while creating object.\n",
    "- we have two diffrent  types of constructor\n",
    "- 1.default\n",
    "- 2.parameterised"
   ]
  },
  {
   "cell_type": "code",
   "execution_count": 8,
   "id": "5578eed7",
   "metadata": {},
   "outputs": [],
   "source": [
    "class Hello:\n",
    "    def __init__(self):\n",
    "        print(\"welcome to python\")   "
   ]
  },
  {
   "cell_type": "code",
   "execution_count": 9,
   "id": "daa610a0",
   "metadata": {},
   "outputs": [
    {
     "name": "stdout",
     "output_type": "stream",
     "text": [
      "welcome to python\n"
     ]
    }
   ],
   "source": [
    "obj= Hello()"
   ]
  },
  {
   "cell_type": "code",
   "execution_count": 18,
   "id": "d4627d95",
   "metadata": {},
   "outputs": [],
   "source": [
    "class Hello1:\n",
    "    def __init__(fles,var1,var2):\n",
    "        fles.var1 = var1\n",
    "        fles.var2 = var2\n",
    "    def show(fles):\n",
    "        print(fles.var1, fles.var2, fles.var3, fles.var4)\n",
    "    def add(fles):\n",
    "        return fles.var1+fles.var2\n",
    "    def profile(fles,var3,var4):\n",
    "        fles.var3 = var3\n",
    "        fles.var4 = var4"
   ]
  },
  {
   "cell_type": "code",
   "execution_count": 19,
   "id": "600d39e9",
   "metadata": {},
   "outputs": [],
   "source": [
    "obj = Hello1(56,41)"
   ]
  },
  {
   "cell_type": "code",
   "execution_count": 22,
   "id": "c4889cbb",
   "metadata": {},
   "outputs": [
    {
     "name": "stdout",
     "output_type": "stream",
     "text": [
      "56 41 76 90\n"
     ]
    }
   ],
   "source": [
    "obj.show()"
   ]
  },
  {
   "cell_type": "code",
   "execution_count": 21,
   "id": "87a1c037",
   "metadata": {},
   "outputs": [],
   "source": [
    "obj.profile(76,90)"
   ]
  },
  {
   "cell_type": "code",
   "execution_count": 24,
   "id": "b7195ed5",
   "metadata": {},
   "outputs": [],
   "source": [
    "from package import logic"
   ]
  },
  {
   "cell_type": "code",
   "execution_count": 25,
   "id": "f2ef41c9",
   "metadata": {},
   "outputs": [
    {
     "name": "stdout",
     "output_type": "stream",
     "text": [
      "['Mymath', '__builtins__', '__cached__', '__doc__', '__file__', '__loader__', '__name__', '__package__', '__spec__']\n"
     ]
    }
   ],
   "source": [
    "print(dir(logic))"
   ]
  },
  {
   "cell_type": "code",
   "execution_count": 26,
   "id": "94f8b88f",
   "metadata": {},
   "outputs": [
    {
     "data": {
      "text/plain": [
       "True"
      ]
     },
     "execution_count": 26,
     "metadata": {},
     "output_type": "execute_result"
    }
   ],
   "source": [
    "logic.Mymath.iseven(2)"
   ]
  },
  {
   "cell_type": "code",
   "execution_count": 28,
   "id": "611310ca",
   "metadata": {},
   "outputs": [],
   "source": [
    "from package.logic import Mymath"
   ]
  },
  {
   "cell_type": "code",
   "execution_count": 29,
   "id": "34f03d93",
   "metadata": {},
   "outputs": [],
   "source": [
    "obj=Mymath"
   ]
  },
  {
   "cell_type": "code",
   "execution_count": 30,
   "id": "7bc9b34e",
   "metadata": {},
   "outputs": [
    {
     "data": {
      "text/plain": [
       "True"
      ]
     },
     "execution_count": 30,
     "metadata": {},
     "output_type": "execute_result"
    }
   ],
   "source": [
    "obj.isprime(47)"
   ]
  },
  {
   "cell_type": "code",
   "execution_count": 31,
   "id": "66916956",
   "metadata": {},
   "outputs": [
    {
     "data": {
      "text/plain": [
       "True"
      ]
     },
     "execution_count": 31,
     "metadata": {},
     "output_type": "execute_result"
    }
   ],
   "source": [
    "obj.isprime(3)"
   ]
  },
  {
   "cell_type": "code",
   "execution_count": 32,
   "id": "5edb6aaa",
   "metadata": {},
   "outputs": [
    {
     "data": {
      "text/plain": [
       "True"
      ]
     },
     "execution_count": 32,
     "metadata": {},
     "output_type": "execute_result"
    }
   ],
   "source": [
    "obj.isprime(1)"
   ]
  },
  {
   "cell_type": "code",
   "execution_count": 33,
   "id": "de3b51e3",
   "metadata": {},
   "outputs": [
    {
     "data": {
      "text/plain": [
       "True"
      ]
     },
     "execution_count": 33,
     "metadata": {},
     "output_type": "execute_result"
    }
   ],
   "source": [
    "obj.isprime(2)"
   ]
  },
  {
   "cell_type": "code",
   "execution_count": 34,
   "id": "830427f3",
   "metadata": {},
   "outputs": [
    {
     "data": {
      "text/plain": [
       "False"
      ]
     },
     "execution_count": 34,
     "metadata": {},
     "output_type": "execute_result"
    }
   ],
   "source": [
    "obj.isprime(100)"
   ]
  },
  {
   "cell_type": "markdown",
   "id": "dea620ae",
   "metadata": {},
   "source": [
    "### inheritance:\n",
    "- inheriting properties from parent to child.\n",
    "- acquring properties from one class to another class.\n",
    "- types\n",
    "- 1.single\n",
    "- 2.multiple\n",
    "- 3.multilevel\n",
    "- 4.hierachal\n",
    "- 5.hydrid"
   ]
  },
  {
   "cell_type": "code",
   "execution_count": 35,
   "id": "d2d5e708",
   "metadata": {},
   "outputs": [],
   "source": [
    "class parent:\n",
    "    name =\"parent\"\n",
    "    value=400\n",
    "    def display():\n",
    "        print(\"i am from parent class\")       "
   ]
  },
  {
   "cell_type": "code",
   "execution_count": 36,
   "id": "008f5943",
   "metadata": {},
   "outputs": [],
   "source": [
    "class child(parent):\n",
    "    cname = \"child\"\n",
    "    age=21\n",
    "    def show():\n",
    "        print(\"i am from child class\")"
   ]
  },
  {
   "cell_type": "code",
   "execution_count": 37,
   "id": "0cf09fac",
   "metadata": {},
   "outputs": [],
   "source": [
    "obj=child"
   ]
  },
  {
   "cell_type": "code",
   "execution_count": 38,
   "id": "313c9633",
   "metadata": {},
   "outputs": [
    {
     "data": {
      "text/plain": [
       "'parent'"
      ]
     },
     "execution_count": 38,
     "metadata": {},
     "output_type": "execute_result"
    }
   ],
   "source": [
    "obj.name"
   ]
  },
  {
   "cell_type": "code",
   "execution_count": 39,
   "id": "a9371890",
   "metadata": {},
   "outputs": [
    {
     "name": "stdout",
     "output_type": "stream",
     "text": [
      "i am from parent class\n"
     ]
    }
   ],
   "source": [
    "obj.display()"
   ]
  },
  {
   "cell_type": "code",
   "execution_count": null,
   "id": "88f278d5",
   "metadata": {},
   "outputs": [],
   "source": []
  }
 ],
 "metadata": {
  "kernelspec": {
   "display_name": "Python 3",
   "language": "python",
   "name": "python3"
  },
  "language_info": {
   "codemirror_mode": {
    "name": "ipython",
    "version": 3
   },
   "file_extension": ".py",
   "mimetype": "text/x-python",
   "name": "python",
   "nbconvert_exporter": "python",
   "pygments_lexer": "ipython3",
   "version": "3.9.5"
  }
 },
 "nbformat": 4,
 "nbformat_minor": 5
}
