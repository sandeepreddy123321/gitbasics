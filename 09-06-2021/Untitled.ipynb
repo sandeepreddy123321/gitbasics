{
 "cells": [
  {
   "cell_type": "markdown",
   "id": "d17ff62e",
   "metadata": {},
   "source": [
    "## Django:\n",
    " - it is external module in python,so have to install.\n",
    " - it is web development framework coded in python.\n",
    " - while developing this django they followed a design pattern MVT.\n",
    " ## MVT:\n",
    " - M -MODEL\n",
    "    - it will store logics related database.\n",
    " - V -VIEW\n",
    "    - it will store info related.\n",
    "    UI(User interface)\n",
    "-  C -CONTROLLER\n",
    "    - it will store main logics(like functions in the data base)"
   ]
  },
  {
   "cell_type": "markdown",
   "id": "30705188",
   "metadata": {},
   "source": [
    "MVT:(it works based on urls)\n",
    " -M - MODEL\n",
    " -  it will store logics related database.\n",
    " -V - VIEW\n",
    " - it will works like a controller\n",
    " -T - TEMPLATE\n",
    " - it will store info related.\n",
    " - UI(User interface)"
   ]
  },
  {
   "cell_type": "markdown",
   "id": "53e4ff2b",
   "metadata": {},
   "source": [
    "## softwares:\n",
    "# install django\n",
    " - to install django ,you have a command promt\n",
    " - pip install django\n",
    " - or pip install django == versionofDJ\n",
    "- ## install any toll(**sublime,atom,notepad+,pycharm,visual studio)"
   ]
  },
  {
   "cell_type": "markdown",
   "id": "79257462",
   "metadata": {},
   "source": [
    "## project creation\n",
    " - we have to choose a project location.\n",
    "  - then you have to open cmd from that project location.\n",
    "  - to create a project we have to run cmd i.e:\n",
    "   - cmd:django-admin startproject projectname\n",
    "   - ex:django-admin startproject firstproject\n",
    " ## run:\n",
    " - you have to open cmd from inside project location.\n",
    " - then run a cmd to run your project server\n",
    " - cmd:python manage.py runserver"
   ]
  },
  {
   "cell_type": "code",
   "execution_count": null,
   "id": "52781ed5",
   "metadata": {},
   "outputs": [],
   "source": []
  }
 ],
 "metadata": {
  "kernelspec": {
   "display_name": "Python 3",
   "language": "python",
   "name": "python3"
  },
  "language_info": {
   "codemirror_mode": {
    "name": "ipython",
    "version": 3
   },
   "file_extension": ".py",
   "mimetype": "text/x-python",
   "name": "python",
   "nbconvert_exporter": "python",
   "pygments_lexer": "ipython3",
   "version": "3.9.5"
  }
 },
 "nbformat": 4,
 "nbformat_minor": 5
}
