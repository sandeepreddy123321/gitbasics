{
 "cells": [
  {
   "cell_type": "markdown",
   "id": "02808963",
   "metadata": {},
   "source": [
    "# string\n",
    "It can be represeted with in single qoutes and double quotes.\n",
    "It can be type casted as str().\n",
    "It has index and slicing can be done.\n",
    "It can be changes the character but it does't effect original string."
   ]
  },
  {
   "cell_type": "code",
   "execution_count": 3,
   "id": "427e23d3",
   "metadata": {},
   "outputs": [
    {
     "name": "stdout",
     "output_type": "stream",
     "text": [
      "sandeep is interseted in doing public internship\n"
     ]
    }
   ],
   "source": [
    "n=\"sandeep is interseted in doing public internship\"\n",
    "print(n)"
   ]
  },
  {
   "cell_type": "code",
   "execution_count": 4,
   "id": "d44febbc",
   "metadata": {},
   "outputs": [
    {
     "ename": "NameError",
     "evalue": "name 'a' is not defined",
     "output_type": "error",
     "traceback": [
      "\u001b[1;31m---------------------------------------------------------------------------\u001b[0m",
      "\u001b[1;31mNameError\u001b[0m                                 Traceback (most recent call last)",
      "\u001b[1;32m<ipython-input-4-d97394a0c5f9>\u001b[0m in \u001b[0;36m<module>\u001b[1;34m\u001b[0m\n\u001b[1;32m----> 1\u001b[1;33m \u001b[0mrange\u001b[0m\u001b[1;33m(\u001b[0m\u001b[0ma\u001b[0m\u001b[1;33m)\u001b[0m\u001b[1;33m\u001b[0m\u001b[1;33m\u001b[0m\u001b[0m\n\u001b[0m\u001b[0;32m      2\u001b[0m \u001b[0mrange\u001b[0m\u001b[1;33m(\u001b[0m\u001b[0ma\u001b[0m\u001b[1;33m,\u001b[0m\u001b[0mb\u001b[0m\u001b[1;33m)\u001b[0m\u001b[1;33m\u001b[0m\u001b[1;33m\u001b[0m\u001b[0m\n\u001b[0;32m      3\u001b[0m \u001b[0mrange\u001b[0m\u001b[1;33m(\u001b[0m\u001b[0ma\u001b[0m\u001b[1;33m,\u001b[0m\u001b[0mb\u001b[0m\u001b[1;33m,\u001b[0m\u001b[0mc\u001b[0m\u001b[1;33m)\u001b[0m\u001b[1;33m\u001b[0m\u001b[1;33m\u001b[0m\u001b[0m\n",
      "\u001b[1;31mNameError\u001b[0m: name 'a' is not defined"
     ]
    }
   ],
   "source": [
    "range(a)\n",
    "range(a,b)\n",
    "range(a,b,c)"
   ]
  },
  {
   "cell_type": "code",
   "execution_count": 6,
   "id": "85efb5e0",
   "metadata": {},
   "outputs": [
    {
     "name": "stdout",
     "output_type": "stream",
     "text": [
      "sandeep is interseted in doing public internship\n",
      "p\n",
      "b\n"
     ]
    }
   ],
   "source": [
    "print(n)\n",
    "print(n[6])\n",
    "print(n[-15])"
   ]
  },
  {
   "cell_type": "code",
   "execution_count": 7,
   "id": "80de891a",
   "metadata": {},
   "outputs": [
    {
     "name": "stdout",
     "output_type": "stream",
     "text": [
      "sandeep is interseted in doing public internship\n",
      "p\n",
      "b\n",
      "sandeep is interseted in doing public internship\n",
      "eep is interseted in doing public internship\n",
      "sandeep is\n"
     ]
    }
   ],
   "source": [
    "print(n)\n",
    "print(n[6])\n",
    "print(n[-15])\n",
    "print(n[:])\n",
    "print(n[4:])\n",
    "print(n[:10])"
   ]
  },
  {
   "cell_type": "code",
   "execution_count": 8,
   "id": "985f6900",
   "metadata": {},
   "outputs": [
    {
     "name": "stdout",
     "output_type": "stream",
     "text": [
      "sandeep is interseted in doing public internship\n",
      "p\n",
      "b\n",
      "eep is i\n"
     ]
    }
   ],
   "source": [
    "print(n)\n",
    "print(n[6])\n",
    "print(n[-15])\n",
    "print(n[4:12])"
   ]
  },
  {
   "cell_type": "code",
   "execution_count": 11,
   "id": "8b20062c",
   "metadata": {},
   "outputs": [
    {
     "name": "stdout",
     "output_type": "stream",
     "text": [
      "sandeep is interseted in doing public internship\n",
      "p\n",
      "b\n",
      " interseted in doing public inter\n"
     ]
    }
   ],
   "source": [
    "print(n)\n",
    "print(n[6])\n",
    "print(n[-15])\n",
    "print(n[10:-5])"
   ]
  },
  {
   "cell_type": "code",
   "execution_count": 13,
   "id": "d26fe6b3",
   "metadata": {},
   "outputs": [
    {
     "name": "stdout",
     "output_type": "stream",
     "text": [
      "sandeep is interseted in doing public internship\n",
      "sandeep is interseted in doing public internship\n",
      "snepi nestdi on ulcitrsi\n",
      "phnen ibpgidn eertis eda\n"
     ]
    }
   ],
   "source": [
    "print(n)\n",
    "print(n[::1])\n",
    "print(n[::2])\n",
    "print(n[::-2])"
   ]
  },
  {
   "cell_type": "code",
   "execution_count": 14,
   "id": "435168a4",
   "metadata": {},
   "outputs": [
    {
     "name": "stdout",
     "output_type": "stream",
     "text": [
      "sandeep is interseted in doing public internship\n",
      "p\n",
      "b\n",
      "r\n"
     ]
    }
   ],
   "source": [
    "print(n)\n",
    "print(n[6])\n",
    "print(n[-15])\n",
    "print(n[-6::14])"
   ]
  },
  {
   "cell_type": "code",
   "execution_count": 1,
   "id": "71871c29",
   "metadata": {},
   "outputs": [
    {
     "name": "stdout",
     "output_type": "stream",
     "text": [
      "['In', 'Out', '_', '__', '___', '__builtin__', '__builtins__', '__doc__', '__loader__', '__name__', '__package__', '__spec__', '_dh', '_i', '_i1', '_ih', '_ii', '_iii', '_oh', 'exit', 'get_ipython', 'quit']\n"
     ]
    }
   ],
   "source": [
    "print(dir())"
   ]
  },
  {
   "cell_type": "code",
   "execution_count": 2,
   "id": "5c337261",
   "metadata": {},
   "outputs": [
    {
     "name": "stdout",
     "output_type": "stream",
     "text": [
      "['__add__', '__class__', '__contains__', '__delattr__', '__dir__', '__doc__', '__eq__', '__format__', '__ge__', '__getattribute__', '__getitem__', '__getnewargs__', '__gt__', '__hash__', '__init__', '__init_subclass__', '__iter__', '__le__', '__len__', '__lt__', '__mod__', '__mul__', '__ne__', '__new__', '__reduce__', '__reduce_ex__', '__repr__', '__rmod__', '__rmul__', '__setattr__', '__sizeof__', '__str__', '__subclasshook__', 'capitalize', 'casefold', 'center', 'count', 'encode', 'endswith', 'expandtabs', 'find', 'format', 'format_map', 'index', 'isalnum', 'isalpha', 'isascii', 'isdecimal', 'isdigit', 'isidentifier', 'islower', 'isnumeric', 'isprintable', 'isspace', 'istitle', 'isupper', 'join', 'ljust', 'lower', 'lstrip', 'maketrans', 'partition', 'removeprefix', 'removesuffix', 'replace', 'rfind', 'rindex', 'rjust', 'rpartition', 'rsplit', 'rstrip', 'split', 'splitlines', 'startswith', 'strip', 'swapcase', 'title', 'translate', 'upper', 'zfill']\n"
     ]
    }
   ],
   "source": [
    "print(dir(str))"
   ]
  },
  {
   "cell_type": "code",
   "execution_count": 10,
   "id": "0c2bd930",
   "metadata": {},
   "outputs": [
    {
     "name": "stdout",
     "output_type": "stream",
     "text": [
      "sandeep is interseted in doing PUBLIC internship\n",
      "Sandeep is interseted in doing public internship\n",
      "sandeep is interseted in doing public internship\n"
     ]
    }
   ],
   "source": [
    "n=\"sandeep is interseted in doing PUBLIC internship\"\n",
    "print(n)\n",
    "print(n.capitalize())\n",
    "print(n.casefold())"
   ]
  },
  {
   "cell_type": "code",
   "execution_count": 11,
   "id": "28114ff0",
   "metadata": {},
   "outputs": [
    {
     "name": "stdout",
     "output_type": "stream",
     "text": [
      "sandeep is interseted in doing PUBLIC internship\n",
      "Sandeep is interseted in doing public internship\n",
      "sandeep is interseted in doing public internship\n",
      "Sandeep Is Interseted In Doing Public Internship\n"
     ]
    }
   ],
   "source": [
    "n=\"sandeep is interseted in doing PUBLIC internship\"\n",
    "print(n)\n",
    "print(n.capitalize())\n",
    "print(n.casefold())\n",
    "print(n.title())"
   ]
  },
  {
   "cell_type": "code",
   "execution_count": 12,
   "id": "4d990fbc",
   "metadata": {},
   "outputs": [
    {
     "name": "stdout",
     "output_type": "stream",
     "text": [
      "sandeep is interseted in doing PUBLIC internship\n",
      "Sandeep is interseted in doing public internship\n",
      "sandeep is interseted in doing public internship\n",
      "SANDEEP IS INTERSETED IN DOING public INTERNSHIP\n"
     ]
    }
   ],
   "source": [
    "n=\"sandeep is interseted in doing PUBLIC internship\"\n",
    "print(n)\n",
    "print(n.capitalize())\n",
    "print(n.casefold())\n",
    "print(n.swapcase())"
   ]
  },
  {
   "cell_type": "code",
   "execution_count": 17,
   "id": "9dbedf00",
   "metadata": {},
   "outputs": [
    {
     "name": "stdout",
     "output_type": "stream",
     "text": [
      "sandeep is interseted in doing PUBLIC internship\n",
      "<built-in method upper of str object at 0x00000245EAE0E0A0>\n",
      "<built-in method lower of str object at 0x00000245EAE0E0A0>\n",
      "False\n"
     ]
    }
   ],
   "source": [
    "print(n)\n",
    "print(n.upper)\n",
    "print(n.lower)\n",
    "print(n.startswith('w'))"
   ]
  },
  {
   "cell_type": "code",
   "execution_count": 18,
   "id": "db4ff94f",
   "metadata": {},
   "outputs": [
    {
     "name": "stdout",
     "output_type": "stream",
     "text": [
      "False\n"
     ]
    }
   ],
   "source": [
    "print(n.endswith('w'))"
   ]
  },
  {
   "cell_type": "code",
   "execution_count": 20,
   "id": "6b66e0d4",
   "metadata": {},
   "outputs": [
    {
     "name": "stdout",
     "output_type": "stream",
     "text": [
      "sandeep is interseted in doing PUBLIC internship\n",
      "['sandeep', 'is', 'interseted', 'in', 'doing', 'PUBLIC', 'internship']\n"
     ]
    }
   ],
   "source": [
    "print(n)\n",
    "print(n.split())"
   ]
  },
  {
   "cell_type": "code",
   "execution_count": 21,
   "id": "856bd8b3",
   "metadata": {},
   "outputs": [
    {
     "name": "stdout",
     "output_type": "stream",
     "text": [
      "sandeep is interseted in doing PUBLIC internship\n",
      "['sandeep', 'is', 'interseted', 'in', 'doing', 'PUBLIC', 'internship']\n",
      "['sand', '', 'p is int', 'rs', 't', 'd in doing PUBLIC int', 'rnship']\n"
     ]
    }
   ],
   "source": [
    "print(n)\n",
    "print(n.split())\n",
    "print(n.split('e'))"
   ]
  },
  {
   "cell_type": "code",
   "execution_count": null,
   "id": "cc209c81",
   "metadata": {},
   "outputs": [],
   "source": []
  }
 ],
 "metadata": {
  "kernelspec": {
   "display_name": "Python 3",
   "language": "python",
   "name": "python3"
  },
  "language_info": {
   "codemirror_mode": {
    "name": "ipython",
    "version": 3
   },
   "file_extension": ".py",
   "mimetype": "text/x-python",
   "name": "python",
   "nbconvert_exporter": "python",
   "pygments_lexer": "ipython3",
   "version": "3.9.5"
  }
 },
 "nbformat": 4,
 "nbformat_minor": 5
}
