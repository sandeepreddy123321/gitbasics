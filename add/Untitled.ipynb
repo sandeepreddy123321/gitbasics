{
 "cells": [
  {
   "cell_type": "markdown",
   "id": "8c0b7575",
   "metadata": {},
   "source": [
    "## user defined function"
   ]
  },
  {
   "cell_type": "markdown",
   "id": "1ade8fbe",
   "metadata": {},
   "source": [
    "##Types of functions\n",
    " -with return type and with argument\n",
    " -with return type and without arguments\n",
    " -without return type and with arguments\n",
    " -without return type and without arguments"
   ]
  },
  {
   "cell_type": "code",
   "execution_count": 7,
   "id": "e064a650",
   "metadata": {},
   "outputs": [
    {
     "name": "stdout",
     "output_type": "stream",
     "text": [
      "100\n",
      "[1, 2, 3, 4, 5, 6, 7, 8, 9, 10, 11, 12, 13, 14, 15, 16, 17, 18, 19, 20, 21, 22, 23, 24, 25, 26, 27, 28, 29, 30, 31, 32, 33, 34, 35, 36, 37, 38, 39, 40, 41, 42, 43, 44, 45, 46, 47, 48, 49, 50, 51, 52, 53, 54, 55, 56, 57, 58, 59, 60, 61, 62, 63, 64, 65, 66, 67, 68, 69, 70, 71, 72, 73, 74, 75, 76, 77, 78, 79, 80, 81, 82, 83, 84, 85, 86, 87, 88, 89, 90, 91, 92, 93, 94, 95, 96, 97, 98, 99, 100]\n"
     ]
    }
   ],
   "source": [
    "def printnumbers(k):\n",
    "    j=[]\n",
    "    for b in range(1,k+1):\n",
    "        j.append(b)\n",
    "    return j\n",
    "n=int(input())\n",
    "print(printnumbers(n))"
   ]
  },
  {
   "cell_type": "code",
   "execution_count": 5,
   "id": "a0d2e34d",
   "metadata": {},
   "outputs": [
    {
     "name": "stdout",
     "output_type": "stream",
     "text": [
      "10\n",
      "1 2 3 4 5 6 7 8 9 10 "
     ]
    }
   ],
   "source": [
    "def printnumbers(k):\n",
    "    j=[]\n",
    "    for b in range(1,k+1):\n",
    "        j.append(b)\n",
    "    return j\n",
    "n=int(input())\n",
    "for z in range(1,len(printnumbers(n))+1):\n",
    "    print(z,end=\" \")"
   ]
  },
  {
   "cell_type": "markdown",
   "id": "f334aece",
   "metadata": {},
   "source": [
    "## with return type and without arguments\n",
    "# reading\n",
    "# printing main\n",
    "# logic - function\n"
   ]
  },
  {
   "cell_type": "code",
   "execution_count": 18,
   "id": "8ca428c8",
   "metadata": {},
   "outputs": [
    {
     "name": "stdout",
     "output_type": "stream",
     "text": [
      "20\n",
      "2 4 6 8 10 12 14 16 18 20 "
     ]
    }
   ],
   "source": [
    "def evennumbers():\n",
    "    k,c = int(input()),[]\n",
    "    for b in range(1,k+1):\n",
    "        if(b%2==0):\n",
    "            c.append(b)\n",
    "    return c\n",
    "for z in evennumbers():\n",
    "    print(z,end=\" \")\n",
    "        "
   ]
  },
  {
   "cell_type": "markdown",
   "id": "9fadd575",
   "metadata": {},
   "source": [
    "# odd numbers"
   ]
  },
  {
   "cell_type": "code",
   "execution_count": 35,
   "id": "1c50b421",
   "metadata": {},
   "outputs": [
    {
     "name": "stdout",
     "output_type": "stream",
     "text": [
      "0\n"
     ]
    },
    {
     "ename": "TypeError",
     "evalue": "oddnumbers() takes 0 positional arguments but 1 was given",
     "output_type": "error",
     "traceback": [
      "\u001b[1;31m---------------------------------------------------------------------------\u001b[0m",
      "\u001b[1;31mTypeError\u001b[0m                                 Traceback (most recent call last)",
      "\u001b[1;32m<ipython-input-35-dca71d8f3b3a>\u001b[0m in \u001b[0;36m<module>\u001b[1;34m\u001b[0m\n\u001b[0;32m      5\u001b[0m             \u001b[1;32mreturn\u001b[0m\u001b[1;33m\u001b[0m\u001b[1;33m\u001b[0m\u001b[0m\n\u001b[0;32m      6\u001b[0m \u001b[0mb\u001b[0m\u001b[1;33m=\u001b[0m\u001b[0mint\u001b[0m\u001b[1;33m(\u001b[0m\u001b[0minput\u001b[0m\u001b[1;33m(\u001b[0m\u001b[1;33m)\u001b[0m\u001b[1;33m)\u001b[0m\u001b[1;33m\u001b[0m\u001b[1;33m\u001b[0m\u001b[0m\n\u001b[1;32m----> 7\u001b[1;33m \u001b[0moddnumbers\u001b[0m\u001b[1;33m(\u001b[0m\u001b[0mb\u001b[0m\u001b[1;33m)\u001b[0m\u001b[1;33m\u001b[0m\u001b[1;33m\u001b[0m\u001b[0m\n\u001b[0m",
      "\u001b[1;31mTypeError\u001b[0m: oddnumbers() takes 0 positional arguments but 1 was given"
     ]
    }
   ],
   "source": [
    "def oddnumbers():\n",
    "    for i in range(1,m+1):\n",
    "        if(i%2!=0):\n",
    "            print(i,ends=\" \")\n",
    "            return\n",
    "b=int(input())\n",
    "oddnumbers(b)"
   ]
  },
  {
   "cell_type": "code",
   "execution_count": 34,
   "id": "bb93c9b5",
   "metadata": {},
   "outputs": [
    {
     "ename": "IndentationError",
     "evalue": "unindent does not match any outer indentation level (<tokenize>, line 9)",
     "output_type": "error",
     "traceback": [
      "\u001b[1;36m  File \u001b[1;32m\"<tokenize>\"\u001b[1;36m, line \u001b[1;32m9\u001b[0m\n\u001b[1;33m    skippingvalues()\u001b[0m\n\u001b[1;37m    ^\u001b[0m\n\u001b[1;31mIndentationError\u001b[0m\u001b[1;31m:\u001b[0m unindent does not match any outer indentation level\n"
     ]
    }
   ],
   "source": [
    "def skippingvalues():\n",
    "    n=int(input())\n",
    "    s=int(input())\n",
    "    k=int(input())\n",
    "    for j in range(n,s,k):\n",
    "        print(j,end=\" \")\n",
    "    return\n",
    "\n",
    " skippingvalues()"
   ]
  },
  {
   "cell_type": "markdown",
   "id": "0a825c62",
   "metadata": {},
   "source": [
    "## task\n"
   ]
  },
  {
   "cell_type": "code",
   "execution_count": 36,
   "id": "48261fe1",
   "metadata": {},
   "outputs": [
    {
     "name": "stdout",
     "output_type": "stream",
     "text": [
      "234567891234\n",
      "Given number is:  234567891234\n",
      "Even numbers are:  4 2 8 6 4 2 \n",
      "odd numbers are:  3 1 9 7 5 3 \n"
     ]
    }
   ],
   "source": [
    "def function(n):\n",
    "    print(\"Given number is: \",n)\n",
    "    ev=\"\"\n",
    "    od=\"\"\n",
    "    while(n>0):\n",
    "        r=n%10\n",
    "        n=n//10\n",
    "        if(r%2==0):\n",
    "            ev+=str(r)+\" \"\n",
    "        else:\n",
    "            od+=str(r)+\" \"\n",
    "    print(\"Even numbers are: \",ev)\n",
    "    print(\"odd numbers are: \",od)\n",
    "    \n",
    "n=int(input())\n",
    "function(n)"
   ]
  },
  {
   "cell_type": "markdown",
   "id": "dafab364",
   "metadata": {},
   "source": [
    "\n",
    "## arguments\n",
    "- required arguments or positinal arguments.\n",
    "-default arguments\n",
    "-keyword arguments\n",
    "-variable length arguments"
   ]
  },
  {
   "cell_type": "code",
   "execution_count": 43,
   "id": "a7edaa32",
   "metadata": {},
   "outputs": [
    {
     "name": "stdout",
     "output_type": "stream",
     "text": [
      "enter the name:sandeep\n",
      "enter the age:20\n",
      "your name is: sandeep\n",
      "your age is:20\n"
     ]
    }
   ],
   "source": [
    "# required arguments\n",
    "def student(age,name,salary =30000):\n",
    "    print(\"your name is: {}\\nyour age is:{}\".format(name,age,salary=30000))\n",
    "    return\n",
    "name =input(\"enter the name:\")\n",
    "age = int(input(\"enter the age:\"))\n",
    "student(age,name)"
   ]
  },
  {
   "cell_type": "code",
   "execution_count": 45,
   "id": "b0dbac0b",
   "metadata": {},
   "outputs": [
    {
     "name": "stdout",
     "output_type": "stream",
     "text": [
      "enter the name:sandeep\n"
     ]
    },
    {
     "ename": "TypeError",
     "evalue": "student() missing 1 required positional argument: 'name'",
     "output_type": "error",
     "traceback": [
      "\u001b[1;31m---------------------------------------------------------------------------\u001b[0m",
      "\u001b[1;31mTypeError\u001b[0m                                 Traceback (most recent call last)",
      "\u001b[1;32m<ipython-input-45-f8eb0ee85a70>\u001b[0m in \u001b[0;36m<module>\u001b[1;34m\u001b[0m\n\u001b[0;32m      4\u001b[0m \u001b[0mname\u001b[0m \u001b[1;33m=\u001b[0m\u001b[0minput\u001b[0m\u001b[1;33m(\u001b[0m\u001b[1;34m\"enter the name:\"\u001b[0m\u001b[1;33m)\u001b[0m\u001b[1;33m\u001b[0m\u001b[1;33m\u001b[0m\u001b[0m\n\u001b[0;32m      5\u001b[0m \u001b[1;31m#age = int(input(\"enter the age:\"))\u001b[0m\u001b[1;33m\u001b[0m\u001b[1;33m\u001b[0m\u001b[1;33m\u001b[0m\u001b[0m\n\u001b[1;32m----> 6\u001b[1;33m \u001b[0mstudent\u001b[0m\u001b[1;33m(\u001b[0m\u001b[0mname\u001b[0m\u001b[1;33m)\u001b[0m\u001b[1;33m\u001b[0m\u001b[1;33m\u001b[0m\u001b[0m\n\u001b[0m",
      "\u001b[1;31mTypeError\u001b[0m: student() missing 1 required positional argument: 'name'"
     ]
    }
   ],
   "source": [
    "def student(age,name,salary =30000):\n",
    "    print(\"your name is: {}\\nyour age is:{}\".format(name,age,salary=30000))\n",
    "    return\n",
    "name =input(\"enter the name:\")\n",
    "#age = int(input(\"enter the age:\"))\n",
    "student(name)"
   ]
  },
  {
   "cell_type": "code",
   "execution_count": 6,
   "id": "3a24cf0a",
   "metadata": {},
   "outputs": [
    {
     "name": "stdout",
     "output_type": "stream",
     "text": [
      "enter the collegename:narayana\n",
      "enter the year:2019\n",
      "your collegename is: narayana\n",
      "your year is:2019\n"
     ]
    }
   ],
   "source": [
    "def college(year,collegename):\n",
    "    print(\"your collegename is: {}\\nyour year is:{}\".format(collegename,year))\n",
    "    return\n",
    "collegename =input(\"enter the collegename:\")\n",
    "year = int(input(\"enter the year:\"))\n",
    "college(year,collegename)"
   ]
  },
  {
   "cell_type": "code",
   "execution_count": 5,
   "id": "c4479c58",
   "metadata": {},
   "outputs": [
    {
     "name": "stdout",
     "output_type": "stream",
     "text": [
      "your collegename is: SRM UNIVERSITY\n",
      "your year is:2019\n"
     ]
    }
   ],
   "source": [
    "def college(year,collegename):\n",
    "    print(\"your collegename is: {}\\nyour year is:{}\".format(collegename,year))\n",
    "    return\n",
    "#collegename =input(\"enter the collegename:\")\n",
    "#year = int(input(\"enter the year:\"))\n",
    "college(year=2019,collegename=\"SRM UNIVERSITY\")"
   ]
  },
  {
   "cell_type": "code",
   "execution_count": 10,
   "id": "422f0e6b",
   "metadata": {},
   "outputs": [
    {
     "name": "stdout",
     "output_type": "stream",
     "text": [
      "enter the year:2019\n",
      "enter the collegename:narayana\n"
     ]
    },
    {
     "ename": "TypeError",
     "evalue": "'collegename' is an invalid keyword argument for int()",
     "output_type": "error",
     "traceback": [
      "\u001b[1;31m---------------------------------------------------------------------------\u001b[0m",
      "\u001b[1;31mTypeError\u001b[0m                                 Traceback (most recent call last)",
      "\u001b[1;32m<ipython-input-10-e8e073393ef4>\u001b[0m in \u001b[0;36m<module>\u001b[1;34m\u001b[0m\n\u001b[0;32m      4\u001b[0m \u001b[1;31m#collegename =input(\"enter the collegename:\")\u001b[0m\u001b[1;33m\u001b[0m\u001b[1;33m\u001b[0m\u001b[1;33m\u001b[0m\u001b[0m\n\u001b[0;32m      5\u001b[0m \u001b[1;31m#year = int(input(\"enter the year:\"))\u001b[0m\u001b[1;33m\u001b[0m\u001b[1;33m\u001b[0m\u001b[1;33m\u001b[0m\u001b[0m\n\u001b[1;32m----> 6\u001b[1;33m \u001b[0mcollege\u001b[0m\u001b[1;33m(\u001b[0m\u001b[0myear\u001b[0m\u001b[1;33m=\u001b[0m\u001b[0mint\u001b[0m\u001b[1;33m(\u001b[0m\u001b[0minput\u001b[0m\u001b[1;33m(\u001b[0m\u001b[1;34m\"enter the year:\"\u001b[0m\u001b[1;33m)\u001b[0m\u001b[1;33m,\u001b[0m\u001b[0mcollegename\u001b[0m\u001b[1;33m=\u001b[0m\u001b[0minput\u001b[0m\u001b[1;33m(\u001b[0m\u001b[1;34m\"enter the collegename:\"\u001b[0m\u001b[1;33m)\u001b[0m\u001b[1;33m)\u001b[0m\u001b[1;33m)\u001b[0m\u001b[1;33m\u001b[0m\u001b[1;33m\u001b[0m\u001b[0m\n\u001b[0m",
      "\u001b[1;31mTypeError\u001b[0m: 'collegename' is an invalid keyword argument for int()"
     ]
    }
   ],
   "source": [
    "def college(year,collegename):\n",
    "    print(\"your collegename is: {}\\nyour year is:{}\".format(collegename,year))\n",
    "    return\n",
    "#collegename =input(\"enter the collegename:\")\n",
    "#year = int(input(\"enter the year:\"))\n",
    "college(year=int(input(\"enter the year:\"),collegename=input(\"enter the collegename:\")))"
   ]
  },
  {
   "cell_type": "code",
   "execution_count": 12,
   "id": "7b9b2c74",
   "metadata": {},
   "outputs": [
    {
     "name": "stdout",
     "output_type": "stream",
     "text": [
      "20\n",
      "10\n",
      "20 <class 'int'>\n",
      "(['10'],) <class 'tuple'>\n"
     ]
    }
   ],
   "source": [
    "# variable length arguments:\n",
    "def number(y,*p):\n",
    "    print(y,type(y))\n",
    "    print(p,type(p))\n",
    "    return\n",
    "b=int(input())\n",
    "k=input().split()\n",
    "number(b,k)"
   ]
  },
  {
   "cell_type": "code",
   "execution_count": null,
   "id": "67c4bdb3",
   "metadata": {},
   "outputs": [],
   "source": []
  }
 ],
 "metadata": {
  "kernelspec": {
   "display_name": "Python 3",
   "language": "python",
   "name": "python3"
  },
  "language_info": {
   "codemirror_mode": {
    "name": "ipython",
    "version": 3
   },
   "file_extension": ".py",
   "mimetype": "text/x-python",
   "name": "python",
   "nbconvert_exporter": "python",
   "pygments_lexer": "ipython3",
   "version": "3.9.5"
  }
 },
 "nbformat": 4,
 "nbformat_minor": 5
}
