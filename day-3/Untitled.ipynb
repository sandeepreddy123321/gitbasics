{
 "cells": [
  {
   "cell_type": "code",
   "execution_count": 12,
   "id": "049e3895",
   "metadata": {},
   "outputs": [
    {
     "name": "stdout",
     "output_type": "stream",
     "text": [
      "10\n",
      "0\n",
      "1\n",
      "2\n",
      "3\n",
      "4\n",
      "5\n",
      "6\n",
      "7\n",
      "8\n",
      "9\n"
     ]
    }
   ],
   "source": [
    "n= int(input())\n",
    "for i in range(n):\n",
    "    print(i)"
   ]
  },
  {
   "cell_type": "code",
   "execution_count": null,
   "id": "a8731f11",
   "metadata": {},
   "outputs": [],
   "source": [
    "INPUT       \n",
    "            AP19110010509\n",
    "            AP19110010510:20\n",
    "    OUTPUT: AP19110010501\n",
    "     "
   ]
  },
  {
   "cell_type": "code",
   "execution_count": 1,
   "id": "e7820f57",
   "metadata": {},
   "outputs": [
    {
     "name": "stdout",
     "output_type": "stream",
     "text": [
      "10\n",
      "AP19110010500\n",
      "AP19110010501\n",
      "AP19110010502\n",
      "AP19110010503\n",
      "AP19110010504\n",
      "AP19110010505\n",
      "AP19110010506\n",
      "AP19110010507\n",
      "AP19110010508\n",
      "AP19110010509\n"
     ]
    }
   ],
   "source": [
    "n= int(input())\n",
    "for j in range(n):\n",
    "    print(\"AP191100105{:02}\".format(j))"
   ]
  },
  {
   "cell_type": "code",
   "execution_count": 2,
   "id": "d818e796",
   "metadata": {},
   "outputs": [
    {
     "name": "stdout",
     "output_type": "stream",
     "text": [
      "10\n",
      "0\n",
      "1\n",
      "2\n",
      "3\n",
      "4\n",
      "5\n",
      "6\n",
      "7\n",
      "8\n",
      "9\n"
     ]
    }
   ],
   "source": [
    "n= int(input())\n",
    "for i in range(n):\n",
    "    print(i)"
   ]
  },
  {
   "cell_type": "code",
   "execution_count": 5,
   "id": "49695a36",
   "metadata": {},
   "outputs": [
    {
     "name": "stdout",
     "output_type": "stream",
     "text": [
      "4321\n",
      "given number is: 4321\n",
      " reverse of a number is: 1\n",
      "given number is 4321 and its reverse is: 1\n",
      "given number is: 4321\n",
      " reverse of a number is: 12\n",
      "given number is 4321 and its reverse is: 12\n",
      "given number is: 4321\n",
      " reverse of a number is: 123\n",
      "given number is 4321 and its reverse is: 123\n",
      "given number is: 4321\n",
      " reverse of a number is: 1234\n",
      "given number is 4321 and its reverse is: 1234\n"
     ]
    }
   ],
   "source": [
    "n=int(input())\n",
    "r=0\n",
    "p=n\n",
    "while n!=0:\n",
    "    r=r*10+n%10\n",
    "    n=n//10\n",
    "    print(\"given number is: {}\\n reverse of a number is: {}\\n\"\n",
    "         \"given number is {} and its reverse is: {}\".format(p,r,p,r))"
   ]
  },
  {
   "cell_type": "markdown",
   "id": "d9494c22",
   "metadata": {},
   "source": [
    "break,continue,pass,return\n"
   ]
  },
  {
   "cell_type": "code",
   "execution_count": 8,
   "id": "910f2901",
   "metadata": {},
   "outputs": [
    {
     "name": "stdout",
     "output_type": "stream",
     "text": [
      "100\n",
      "0,1,2,3,4,5,6,7,8,9,10,11,12,13,14,15,16,17,18,19,20,21,22,23,24,25,26,27,28,29,30,31,32,33,34,35,36,37,38,39,40,41,42,43,44,45,46,47,48,49,50,51,52,53,54,55,56,57,58,59,60,61,62,63,64,65,66,67,68,69,70,71,72,73,74,75,76,77,78,79,80,81,82,83,84,85,86,87,88,89,90,91,92,93,94,95,96,97,98,99,"
     ]
    }
   ],
   "source": [
    "n=int(input())\n",
    "for h in range(n):\n",
    "    if h==100:\n",
    "        break\n",
    "    else:\n",
    "        print(h,end=\",\")"
   ]
  },
  {
   "cell_type": "code",
   "execution_count": 10,
   "id": "0039d65e",
   "metadata": {},
   "outputs": [
    {
     "name": "stdout",
     "output_type": "stream",
     "text": [
      "200\n",
      "0,1,2,3,4,5,6,7,8,9,10,11,12,13,14,15,16,17,18,19,20,21,22,23,24,25,26,27,28,29,30,31,32,33,34,35,36,37,38,39,40,41,42,43,44,45,46,47,48,49,50,51,52,53,54,55,56,57,58,59,60,61,62,63,64,65,66,67,68,69,70,71,72,73,74,75,76,77,78,79,80,81,82,83,84,85,86,87,88,89,90,91,92,93,94,95,96,97,98,99,101,102,103,104,105,106,107,108,109,110,111,112,113,114,115,116,117,118,119,120,121,122,123,124,125,126,127,128,129,130,131,132,133,134,135,136,137,138,139,140,141,142,143,144,145,146,147,148,149,150,151,152,153,154,155,156,157,158,159,160,161,162,163,164,165,166,167,168,169,170,171,172,173,174,175,176,177,178,179,180,181,182,183,184,185,186,187,188,189,190,191,192,193,194,195,196,197,198,199,"
     ]
    }
   ],
   "source": [
    "n=int(input())\n",
    "for h in range(n):\n",
    "    if h==100:\n",
    "        continue\n",
    "    else:\n",
    "        print(h,end=\",\")"
   ]
  },
  {
   "cell_type": "code",
   "execution_count": 11,
   "id": "20693f69",
   "metadata": {},
   "outputs": [
    {
     "name": "stdout",
     "output_type": "stream",
     "text": [
      "100\n",
      "0,1,2,3,4,5,6,7,8,9,11,12,13,14,15,16,17,18,19,20,21,22,23,24,25,26,27,28,29,30,31,32,33,34,35,36,37,38,39,40,41,42,43,44,45,46,47,48,49,50,51,52,53,54,55,56,57,58,59,60,61,62,63,64,65,66,67,68,69,70,71,72,73,74,75,76,77,78,79,80,81,82,83,84,85,86,87,88,89,90,91,92,93,94,95,96,97,98,99,"
     ]
    }
   ],
   "source": [
    "n=int(input())\n",
    "for h in range(n):\n",
    "    if h==10:\n",
    "        pass\n",
    "    else:\n",
    "        print(h,end=\",\")"
   ]
  },
  {
   "cell_type": "code",
   "execution_count": 24,
   "id": "9417b74e",
   "metadata": {},
   "outputs": [
    {
     "name": "stdout",
     "output_type": "stream",
     "text": [
      "10\n",
      "0,1,2,3,4,5,6,7,8,9,"
     ]
    }
   ],
   "source": [
    "n=int(input())\n",
    "for i in range(n):\n",
    "    if (i == 10):\n",
    "        pass\n",
    "    print(i,end=\",\")"
   ]
  },
  {
   "cell_type": "code",
   "execution_count": 34,
   "id": "403b2316",
   "metadata": {},
   "outputs": [
    {
     "name": "stdout",
     "output_type": "stream",
     "text": [
      "01(:02) 01(:02) 01(:02) 01(:02) 01(:02) 01(:02) 01(:02) \n",
      "01(:02) 01(:02) 01(:02) 01(:02) 01(:02) 01(:02) 01(:02) \n",
      "01(:02) 01(:02) 01(:02) 01(:02) 01(:02) 01(:02) 01(:02) \n",
      "01(:02) 01(:02) 01(:02) 01(:02) 01(:02) 01(:02) 01(:02) \n",
      "01(:02) 01(:02) 01(:02) \n"
     ]
    }
   ],
   "source": [
    "a=1\n",
    "for i in range(1,6):\n",
    "    for j in range(1,8):\n",
    "        if (a<=31):\n",
    "            print(\"(:02)\".format(a),end=\" \")\n",
    "        else:\n",
    "            break\n",
    "        a=a+1\n",
    "    print(end=\"\\n\")"
   ]
  },
  {
   "cell_type": "code",
   "execution_count": 49,
   "id": "c65a30b1",
   "metadata": {},
   "outputs": [
    {
     "ename": "SyntaxError",
     "evalue": "invalid syntax (<ipython-input-49-62122be3479e>, line 4)",
     "output_type": "error",
     "traceback": [
      "\u001b[1;36m  File \u001b[1;32m\"<ipython-input-49-62122be3479e>\"\u001b[1;36m, line \u001b[1;32m4\u001b[0m\n\u001b[1;33m    elif(a<=31):\u001b[0m\n\u001b[1;37m    ^\u001b[0m\n\u001b[1;31mSyntaxError\u001b[0m\u001b[1;31m:\u001b[0m invalid syntax\n"
     ]
    }
   ],
   "source": [
    "a=1\n",
    "for i in range(1,6):\n",
    "    for j in range(1,8):\n",
    "        elif(a<=31):\n",
    "            if(a%2==0):\n",
    "                print(\"##\",end=\" \")\n",
    "            else:\n",
    "                break\n",
    "            a=a+1\n",
    "    print(end=\"\\n\")"
   ]
  },
  {
   "cell_type": "code",
   "execution_count": null,
   "id": "ae6df0dd",
   "metadata": {},
   "outputs": [],
   "source": []
  }
 ],
 "metadata": {
  "kernelspec": {
   "display_name": "Python 3",
   "language": "python",
   "name": "python3"
  },
  "language_info": {
   "codemirror_mode": {
    "name": "ipython",
    "version": 3
   },
   "file_extension": ".py",
   "mimetype": "text/x-python",
   "name": "python",
   "nbconvert_exporter": "python",
   "pygments_lexer": "ipython3",
   "version": "3.9.5"
  }
 },
 "nbformat": 4,
 "nbformat_minor": 5
}
