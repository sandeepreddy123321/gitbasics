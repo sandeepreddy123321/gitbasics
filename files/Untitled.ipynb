{
 "cells": [
  {
   "cell_type": "markdown",
   "id": "bb4dc6dc",
   "metadata": {},
   "source": [
    "## files concept\n",
    "- file concept is used for storeing data and collection of various data in it.\n",
    "- open() is used for opening the file.\n",
    "- file.object=open(\"filenmae.text\",\"access mode\")\n",
    "* access mode:\n",
    "- read mode(only for reading the content)\n",
    "- to read the the file should exit.\n",
    "- file=open(\"abc.text\",\"r\")\n",
    "- * write mode:\n",
    "- only for writing the content.\n",
    "- the file should exist before opening the file.\n",
    "- if the file is exist it opended and points at beginning.\n",
    "- if file doest exist the file will get created with in the given name.\n",
    "- file=(\"abc,text\",\"w\")\n",
    "- *append mode:\n",
    "- only to append and write the data.\n",
    "- if file doest exist the file will be created the name of the file and file pointer points at the beginning."
   ]
  },
  {
   "cell_type": "code",
   "execution_count": 1,
   "id": "b9bd4238",
   "metadata": {},
   "outputs": [],
   "source": [
    "f=open(\"abc.txt\",\"w\")"
   ]
  },
  {
   "cell_type": "code",
   "execution_count": 2,
   "id": "e4a935d2",
   "metadata": {},
   "outputs": [],
   "source": [
    "f.write(\"hello sandeep welcome to python\")\n",
    "f.close()"
   ]
  },
  {
   "cell_type": "code",
   "execution_count": 4,
   "id": "3a9ee3e1",
   "metadata": {},
   "outputs": [],
   "source": [
    "with open(\"abc.text\",\"w\") as ft:\n",
    "    ft.write(\"welcome to python\")"
   ]
  },
  {
   "cell_type": "code",
   "execution_count": 20,
   "id": "0371f921",
   "metadata": {},
   "outputs": [
    {
     "name": "stdout",
     "output_type": "stream",
     "text": [
      "welcome to pythonwelcome to my new internship\n",
      "welcome to my new internship\n",
      "welcome to my new internship\n",
      " hi hello welcome to python\n",
      " hi hello welcome to python\n"
     ]
    }
   ],
   "source": [
    "with open(\"abc.text\",\"r\") as fr:\n",
    "    print(fr.read())"
   ]
  },
  {
   "cell_type": "code",
   "execution_count": 15,
   "id": "6fea8b00",
   "metadata": {},
   "outputs": [],
   "source": [
    "with open(\"abc.text\",\"a\") as fa:\n",
    "    fa.write(\"\\nwelcome to my new internship\")"
   ]
  },
  {
   "cell_type": "code",
   "execution_count": 19,
   "id": "0b2bfb32",
   "metadata": {},
   "outputs": [],
   "source": [
    "with open(\"abc.text\",\"a\") as d:\n",
    "    d.write(\"\\n hi hello welcome to python\")"
   ]
  },
  {
   "cell_type": "code",
   "execution_count": 33,
   "id": "18e7774b",
   "metadata": {},
   "outputs": [
    {
     "name": "stdout",
     "output_type": "stream",
     "text": [
      "enter a range: 3\n",
      " enter a name: san\n",
      " enter a name: deep\n",
      " enter a name: sandy\n"
     ]
    }
   ],
   "source": [
    "with open(\"sandy.csv\",\"w\") as y:\n",
    "    n= int(input(\"enter a range: \"))\n",
    "    for j in range(1,n+1):\n",
    "        m=input(\" enter a name: \")\n",
    "        y.write(m+\",\")"
   ]
  },
  {
   "cell_type": "code",
   "execution_count": 26,
   "id": "66c0a238",
   "metadata": {},
   "outputs": [
    {
     "name": "stdout",
     "output_type": "stream",
     "text": [
      "enter a range: 3\n",
      " enter a name: san\n",
      " enter a name: deep\n",
      " enter a name: sandeep\n"
     ]
    }
   ],
   "source": [
    "with open(\"sandy.csv\",\"w\") as y:\n",
    "    n= int(input(\"enter a range: \"))\n",
    "    for j in range(1,n+1):\n",
    "        m=input(\" enter a name: \")\n",
    "        y.write(m+\"\\n\")"
   ]
  },
  {
   "cell_type": "code",
   "execution_count": 27,
   "id": "1d0a468c",
   "metadata": {},
   "outputs": [
    {
     "name": "stdout",
     "output_type": "stream",
     "text": [
      "['_CHUNK_SIZE', '__class__', '__del__', '__delattr__', '__dict__', '__dir__', '__doc__', '__enter__', '__eq__', '__exit__', '__format__', '__ge__', '__getattribute__', '__gt__', '__hash__', '__init__', '__init_subclass__', '__iter__', '__le__', '__lt__', '__ne__', '__new__', '__next__', '__reduce__', '__reduce_ex__', '__repr__', '__setattr__', '__sizeof__', '__str__', '__subclasshook__', '_checkClosed', '_checkReadable', '_checkSeekable', '_checkWritable', '_finalizing', 'buffer', 'close', 'closed', 'detach', 'encoding', 'errors', 'fileno', 'flush', 'isatty', 'line_buffering', 'mode', 'name', 'newlines', 'read', 'readable', 'readline', 'readlines', 'reconfigure', 'seek', 'seekable', 'tell', 'truncate', 'writable', 'write', 'write_through', 'writelines']\n"
     ]
    }
   ],
   "source": [
    "print(dir(y))"
   ]
  },
  {
   "cell_type": "code",
   "execution_count": 38,
   "id": "6ab75e69",
   "metadata": {},
   "outputs": [
    {
     "name": "stdout",
     "output_type": "stream",
     "text": [
      "san,deep,sandy,\n"
     ]
    }
   ],
   "source": [
    "with open(\"sandy.csv\",\"r\") as k:\n",
    "    print(k.readline())\n",
    "    "
   ]
  },
  {
   "cell_type": "code",
   "execution_count": 39,
   "id": "95d92909",
   "metadata": {},
   "outputs": [
    {
     "name": "stdout",
     "output_type": "stream",
     "text": [
      "san,deep,sandy,\n"
     ]
    }
   ],
   "source": [
    "with open(\"sandy.csv\",\"r\") as k:\n",
    "    s=k.readline()\n",
    "    print(s)"
   ]
  },
  {
   "cell_type": "code",
   "execution_count": 40,
   "id": "c53600b6",
   "metadata": {},
   "outputs": [
    {
     "name": "stdout",
     "output_type": "stream",
     "text": [
      "[['s'], ['a'], ['n'], [','], ['d'], ['e'], ['e'], ['p'], [','], ['s'], ['a'], ['n'], ['d'], ['y'], [',']]\n"
     ]
    }
   ],
   "source": [
    "with open(\"sandy.csv\",\"r\") as k:\n",
    "    s=k.readline()\n",
    "    q=[]\n",
    "    for v in s:\n",
    "        q.append(v.split(\"\\n\"))\n",
    "    print(q)"
   ]
  },
  {
   "cell_type": "code",
   "execution_count": 43,
   "id": "407d6704",
   "metadata": {},
   "outputs": [
    {
     "name": "stdout",
     "output_type": "stream",
     "text": [
      "['s', 'a', 'n', ',', 'd', 'e', 'e', 'p', ',', 's', 'a', 'n', 'd', 'y', ',']\n"
     ]
    }
   ],
   "source": [
    "with open(\"sandy.csv\",\"r\") as k:\n",
    "    s=k.readline()\n",
    "    q=[]\n",
    "    for v in s:\n",
    "        q.append(v.split(\"\\n\")[0])\n",
    "    print(q)"
   ]
  },
  {
   "cell_type": "code",
   "execution_count": 44,
   "id": "ce784d1b",
   "metadata": {},
   "outputs": [
    {
     "name": "stdout",
     "output_type": "stream",
     "text": [
      "enter the range: 10\n"
     ]
    }
   ],
   "source": [
    "with open(\"input.text\",\"w\") as fw:\n",
    "    fw.write(input(\"enter the range: \"))"
   ]
  },
  {
   "cell_type": "code",
   "execution_count": 47,
   "id": "fe68a0e5",
   "metadata": {},
   "outputs": [
    {
     "name": "stdout",
     "output_type": "stream",
     "text": [
      "['10']\n"
     ]
    }
   ],
   "source": [
    "with open(\"input.text\",\"r\") as g:\n",
    "   f = g.readlines()\n",
    "   print(f)"
   ]
  },
  {
   "cell_type": "code",
   "execution_count": 54,
   "id": "51f23cea",
   "metadata": {},
   "outputs": [],
   "source": [
    "with open(\"input.text\",\"r\") as g:\n",
    "   f = g.readlines()\n",
    "   with open(\"output.text\",\"w\") as wy:\n",
    "        wy.write(\"entered number is: {}\".format(f[0]))\n",
    "        x = []\n",
    "        for n in range(1,int(f[0])+1):\n",
    "            if n%2==0:\n",
    "                h = str(n)+\",\"\n",
    "                x.append(h)\n",
    "        wy.write(\" even numbers in range {}\".format(f[0],x))\n",
    "        "
   ]
  },
  {
   "cell_type": "code",
   "execution_count": 57,
   "id": "e2ac76e0",
   "metadata": {},
   "outputs": [],
   "source": [
    "with open(\"input.text\",\"r\") as g:\n",
    "   f = g.readlines()\n",
    "   with open(\"output.text\",\"w\") as wy:\n",
    "        wy.write(\"entered number is: {}\".format(f[0]))\n",
    "        x = []\n",
    "        for n in range(1,int(f[0])+1):\n",
    "            if n%2==0:\n",
    "                h = str(n)+\",\"\n",
    "                x.append(h)\n",
    "        t = \" \".join(x)\n",
    "        wy.write(\" even numbers in range {}\".format(f[0],t))\n",
    "        "
   ]
  },
  {
   "cell_type": "code",
   "execution_count": null,
   "id": "8208e736",
   "metadata": {},
   "outputs": [],
   "source": []
  }
 ],
 "metadata": {
  "kernelspec": {
   "display_name": "Python 3",
   "language": "python",
   "name": "python3"
  },
  "language_info": {
   "codemirror_mode": {
    "name": "ipython",
    "version": 3
   },
   "file_extension": ".py",
   "mimetype": "text/x-python",
   "name": "python",
   "nbconvert_exporter": "python",
   "pygments_lexer": "ipython3",
   "version": "3.9.5"
  }
 },
 "nbformat": 4,
 "nbformat_minor": 5
}
