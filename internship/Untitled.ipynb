{
 "cells": [
  {
   "cell_type": "code",
   "execution_count": 1,
   "id": "386802e1",
   "metadata": {},
   "outputs": [],
   "source": [
    "a=10"
   ]
  },
  {
   "cell_type": "code",
   "execution_count": 2,
   "id": "545a796a",
   "metadata": {},
   "outputs": [
    {
     "data": {
      "text/plain": [
       "10"
      ]
     },
     "execution_count": 2,
     "metadata": {},
     "output_type": "execute_result"
    }
   ],
   "source": [
    "a"
   ]
  },
  {
   "cell_type": "code",
   "execution_count": 3,
   "id": "d49e4514",
   "metadata": {},
   "outputs": [],
   "source": [
    "b=20"
   ]
  },
  {
   "cell_type": "code",
   "execution_count": 4,
   "id": "9979eb2b",
   "metadata": {},
   "outputs": [
    {
     "data": {
      "text/plain": [
       "30"
      ]
     },
     "execution_count": 4,
     "metadata": {},
     "output_type": "execute_result"
    }
   ],
   "source": [
    "a+b"
   ]
  },
  {
   "cell_type": "code",
   "execution_count": 5,
   "id": "3154935a",
   "metadata": {},
   "outputs": [
    {
     "data": {
      "text/plain": [
       "10"
      ]
     },
     "execution_count": 5,
     "metadata": {},
     "output_type": "execute_result"
    }
   ],
   "source": [
    "b-a"
   ]
  },
  {
   "cell_type": "markdown",
   "id": "3c567961",
   "metadata": {},
   "source": [
    "### Hi welcome👌😒"
   ]
  },
  {
   "cell_type": "code",
   "execution_count": 10,
   "id": "5c49b888",
   "metadata": {},
   "outputs": [
    {
     "name": "stdout",
     "output_type": "stream",
     "text": [
      "enter the number12\n",
      "enter the number23.456\n",
      "conversion of number 23\n",
      "coversion of number 12.0\n"
     ]
    }
   ],
   "source": [
    "c=int(input(\"enter the number\"))\n",
    "d=float(input(\"enter the number\"))\n",
    "print(\"conversion of number\",int(d))\n",
    "print(\"coversion of number\",float(c))"
   ]
  },
  {
   "cell_type": "code",
   "execution_count": 35,
   "id": "b0f3d28f",
   "metadata": {},
   "outputs": [
    {
     "name": "stdout",
     "output_type": "stream",
     "text": [
      "enter the number12\n",
      "enter the name sandeep\n",
      "enter the number is:%d 12\n",
      "enter the name is:%s sandeep\n"
     ]
    }
   ],
   "source": [
    "q=int(input(\"enter the number\"))\n",
    "k=input(\"enter the name \")\n",
    "print(\"enter the number is:%d\",q)\n",
    "print(\"enter the name is:%s\",k)"
   ]
  },
  {
   "cell_type": "code",
   "execution_count": 47,
   "id": "cde31bf7",
   "metadata": {},
   "outputs": [
    {
     "name": "stdout",
     "output_type": "stream",
     "text": [
      "enter number is: 12 and enter the name is: sandeep\n",
      "enter number is: n=sandeep and enter the name is: 12\n",
      "enter number is: 12 and enter the name is: sandeep\n"
     ]
    }
   ],
   "source": [
    "print(\"enter number is: {} and enter the name is: {}\".format(q,k))\n",
    "print(\"enter number is: n={} and enter the name is: {}\".format(k,q))\n",
    "print(\"enter number is: {} and enter the name is: {}\".format(q,k))"
   ]
  },
  {
   "cell_type": "code",
   "execution_count": 39,
   "id": "80dda63a",
   "metadata": {},
   "outputs": [
    {
     "name": "stdout",
     "output_type": "stream",
     "text": [
      "5\n"
     ]
    }
   ],
   "source": [
    "a=20\n",
    "print(a>>2)"
   ]
  },
  {
   "cell_type": "code",
   "execution_count": 45,
   "id": "aa124b07",
   "metadata": {},
   "outputs": [
    {
     "name": "stdout",
     "output_type": "stream",
     "text": [
      "enter the number12\n"
     ]
    }
   ],
   "source": [
    "n=int(input(\"enter the number\"))\n",
    "if n == 23:\n",
    "    print(\"entered value is: {}\",format(n))"
   ]
  },
  {
   "cell_type": "code",
   "execution_count": 48,
   "id": "89592671",
   "metadata": {},
   "outputs": [
    {
     "name": "stdout",
     "output_type": "stream",
     "text": [
      "enter the number12\n",
      "enter the number12\n",
      "entere value is:12 and 12 are equal\n"
     ]
    }
   ],
   "source": [
    "n=int(input(\"enter the number\"))\n",
    "m=int(input(\"enter the number\"))\n",
    "if n == m:\n",
    "    print(\"entere value is:{} and {} are equal\".format(n,m))\n",
    "else:\n",
    "    print(\"entere value is:{} and {} are not equal\".format(n,m))"
   ]
  },
  {
   "cell_type": "code",
   "execution_count": 49,
   "id": "a6366ac8",
   "metadata": {},
   "outputs": [],
   "source": [
    "a=10"
   ]
  },
  {
   "cell_type": "code",
   "execution_count": 50,
   "id": "1facb74e",
   "metadata": {},
   "outputs": [
    {
     "data": {
      "text/plain": [
       "10"
      ]
     },
     "execution_count": 50,
     "metadata": {},
     "output_type": "execute_result"
    }
   ],
   "source": [
    "a"
   ]
  },
  {
   "cell_type": "code",
   "execution_count": 52,
   "id": "f5244b1e",
   "metadata": {},
   "outputs": [
    {
     "name": "stdout",
     "output_type": "stream",
     "text": [
      "enter the number200\n",
      "enter the value 200 is equal to 200\n"
     ]
    }
   ],
   "source": [
    "n= int(input(\"enter the number\"))\n",
    "if(n<=300):\n",
    "    if(n==200):\n",
    "        print(\"enter the value {} is equal to 200\".format(n))\n",
    "    else:\n",
    "        print(\"enter the value {} is not equal to 200\".format(n))\n",
    "else:\n",
    "    print(\"enter the value {} is greater than  200\".format(n))"
   ]
  },
  {
   "cell_type": "code",
   "execution_count": 62,
   "id": "324ae776",
   "metadata": {},
   "outputs": [
    {
     "name": "stdout",
     "output_type": "stream",
     "text": [
      "enter the number20\n",
      "the number20 is divisible by 4\n"
     ]
    }
   ],
   "source": [
    "h= int(input(\"enter the number\"))\n",
    "if h%4 == 0:\n",
    "    print(\"the number{} is divisible by 4\".format(h))\n",
    "elif h%2 == 0 & h%4 == 0:\n",
    "    print(\"the number{} is divisible by 2 and 4\".format(h))\n",
    "elif h%2 == 0:\n",
    "    print(\"the number{} is divisible by 2\".format(h))\n",
    "else:\n",
    "    print(\"the number{} is not divisible by 2\".format(h))\n",
    "    "
   ]
  },
  {
   "cell_type": "code",
   "execution_count": 64,
   "id": "0fe750f0",
   "metadata": {},
   "outputs": [
    {
     "name": "stdout",
     "output_type": "stream",
     "text": [
      "enter the number100\n",
      "0,1,2,3,4,5,6,7,8,9,10,11,12,13,14,15,16,17,18,19,20,21,22,23,24,25,26,27,28,29,30,31,32,33,34,35,36,37,38,39,40,41,42,43,44,45,46,47,48,49,50,51,52,53,54,55,56,57,58,59,60,61,62,63,64,65,66,67,68,69,70,71,72,73,74,75,76,77,78,79,80,81,82,83,84,85,86,87,88,89,90,91,92,93,94,95,96,97,98,99,"
     ]
    }
   ],
   "source": [
    "n= int(input(\"enter the number\"))\n",
    "for i in range(n):\n",
    "    print(i,end=\",\")"
   ]
  },
  {
   "cell_type": "code",
   "execution_count": 66,
   "id": "3d43e3d8",
   "metadata": {},
   "outputs": [
    {
     "name": "stdout",
     "output_type": "stream",
     "text": [
      "enter the number100\n",
      "enter the number150\n",
      "100,101,102,103,104,105,106,107,108,109,110,111,112,113,114,115,116,117,118,119,120,121,122,123,124,125,126,127,128,129,130,131,132,133,134,135,136,137,138,139,140,141,142,143,144,145,146,147,148,149,"
     ]
    }
   ],
   "source": [
    "n= int(input(\"enter the number\"))\n",
    "m= int(input(\"enter the number\"))\n",
    "for i in range(n,m):\n",
    "    print(i,end=\",\")"
   ]
  },
  {
   "cell_type": "code",
   "execution_count": 76,
   "id": "27c70e3f",
   "metadata": {},
   "outputs": [
    {
     "name": "stdout",
     "output_type": "stream",
     "text": [
      "enter the number100\n",
      "enter the number0\n",
      "enter stepping value20\n"
     ]
    }
   ],
   "source": [
    "n= int(input(\"enter the number\"))\n",
    "m= int(input(\"enter the number\"))\n",
    "l= int(input(\"enter stepping value\"))\n",
    "for i in range(n,m,l):\n",
    "    print(i,end=\",\")"
   ]
  },
  {
   "cell_type": "code",
   "execution_count": 78,
   "id": "5201675a",
   "metadata": {},
   "outputs": [
    {
     "name": "stdout",
     "output_type": "stream",
     "text": [
      "enter the number100\n",
      "enter the number50\n",
      "50,51,52,53,54,55,56,57,58,59,60,61,62,63,64,65,66,67,68,69,70,71,72,73,74,75,76,77,78,79,80,81,82,83,84,85,86,87,88,89,90,91,92,93,94,95,96,97,98,99,"
     ]
    }
   ],
   "source": [
    "m= int(input(\"enter the number\"))\n",
    "n= int(input(\"enter the number\"))\n",
    "for i in range(n,m):\n",
    "    print(i,end=\",\")"
   ]
  },
  {
   "cell_type": "code",
   "execution_count": null,
   "id": "08902ead",
   "metadata": {},
   "outputs": [],
   "source": []
  }
 ],
 "metadata": {
  "kernelspec": {
   "display_name": "Python 3",
   "language": "python",
   "name": "python3"
  },
  "language_info": {
   "codemirror_mode": {
    "name": "ipython",
    "version": 3
   },
   "file_extension": ".py",
   "mimetype": "text/x-python",
   "name": "python",
   "nbconvert_exporter": "python",
   "pygments_lexer": "ipython3",
   "version": "3.9.5"
  }
 },
 "nbformat": 4,
 "nbformat_minor": 5
}
