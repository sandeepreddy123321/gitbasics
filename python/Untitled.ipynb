{
 "cells": [
  {
   "cell_type": "code",
   "execution_count": null,
   "id": "4b273a15",
   "metadata": {},
   "outputs": [],
   "source": [
    "list tuple set\n"
   ]
  },
  {
   "cell_type": "markdown",
   "id": "7f8e9651",
   "metadata": {},
   "source": [
    "# list\n",
    "list used to store various elements in it.\n",
    "it stores data regarding like string, variables....etc."
   ]
  },
  {
   "cell_type": "markdown",
   "id": "4fc91c86",
   "metadata": {},
   "source": [
    "#tuple\n",
    "Stores differnt data elements.\n",
    "It stores the values in a given format.\n",
    "In this values can be changed.\n",
    "It can store duplicate elements."
   ]
  },
  {
   "cell_type": "markdown",
   "id": "2f9494b1",
   "metadata": {},
   "source": [
    "##Dictionary\n",
    "It can store data elements and follow key and values to store them in a paricular order.\n",
    "It can be defined as def()"
   ]
  },
  {
   "cell_type": "code",
   "execution_count": 5,
   "id": "55ceaa45",
   "metadata": {},
   "outputs": [
    {
     "name": "stdout",
     "output_type": "stream",
     "text": [
      "[25, 'sandeep', 'sandy']\n"
     ]
    }
   ],
   "source": [
    "k = [25,\"sandeep\", \"sandy\"]\n",
    "print(k)"
   ]
  },
  {
   "cell_type": "code",
   "execution_count": 7,
   "id": "d4f6258b",
   "metadata": {},
   "outputs": [
    {
     "name": "stdout",
     "output_type": "stream",
     "text": [
      "[25, 'sandeep', 'sandy']\n"
     ]
    }
   ],
   "source": [
    "k = [25,\"sandeep\", \"sandy\"]\n",
    "print(k)"
   ]
  },
  {
   "cell_type": "code",
   "execution_count": 8,
   "id": "b90cb945",
   "metadata": {},
   "outputs": [
    {
     "name": "stdout",
     "output_type": "stream",
     "text": [
      "['__add__', '__class__', '__class_getitem__', '__contains__', '__delattr__', '__delitem__', '__dir__', '__doc__', '__eq__', '__format__', '__ge__', '__getattribute__', '__getitem__', '__gt__', '__hash__', '__iadd__', '__imul__', '__init__', '__init_subclass__', '__iter__', '__le__', '__len__', '__lt__', '__mul__', '__ne__', '__new__', '__reduce__', '__reduce_ex__', '__repr__', '__reversed__', '__rmul__', '__setattr__', '__setitem__', '__sizeof__', '__str__', '__subclasshook__', 'append', 'clear', 'copy', 'count', 'extend', 'index', 'insert', 'pop', 'remove', 'reverse', 'sort']\n"
     ]
    }
   ],
   "source": [
    "print(dir(k))"
   ]
  },
  {
   "cell_type": "code",
   "execution_count": 11,
   "id": "18f70d71",
   "metadata": {},
   "outputs": [
    {
     "name": "stdout",
     "output_type": "stream",
     "text": [
      "[34, 12, 35, 56, 78, 89, 23, 45, 1, 'sandy', 'shankar', 'rowdy']\n"
     ]
    }
   ],
   "source": [
    "k= [34,12,35,56,78,89,23,45,1,\"sandy\",\"shankar\",\"rowdy\"]\n",
    "print(k)"
   ]
  },
  {
   "cell_type": "code",
   "execution_count": 14,
   "id": "b3ddd010",
   "metadata": {},
   "outputs": [
    {
     "name": "stdout",
     "output_type": "stream",
     "text": [
      "[12, 34, 56]\n",
      "sandy\n",
      "[12, 34, 56, 'sandy']\n"
     ]
    }
   ],
   "source": [
    "m=[12,34,56]\n",
    "print(m)\n",
    "n=input()\n",
    "m.append(n)\n",
    "print(m)"
   ]
  },
  {
   "cell_type": "code",
   "execution_count": 15,
   "id": "52c0bdf4",
   "metadata": {},
   "outputs": [
    {
     "name": "stdout",
     "output_type": "stream",
     "text": [
      "[12, 34, 56]\n",
      "35\n",
      "[12, 34, 56, 35]\n"
     ]
    }
   ],
   "source": [
    "m=[12,34,56]\n",
    "print(m)\n",
    "n=int(input())\n",
    "m.append(n)\n",
    "print(m)"
   ]
  },
  {
   "cell_type": "code",
   "execution_count": 17,
   "id": "560ff1b2",
   "metadata": {},
   "outputs": [
    {
     "name": "stdout",
     "output_type": "stream",
     "text": [
      "[12, 34, 56]\n",
      "25\n",
      "[12, 34, 56, 25]\n"
     ]
    }
   ],
   "source": [
    "m=[12,34,56]\n",
    "print(m)\n",
    "n=input()\n",
    "m.append(int(n))\n",
    "print(m)"
   ]
  },
  {
   "cell_type": "code",
   "execution_count": 25,
   "id": "d54314af",
   "metadata": {},
   "outputs": [
    {
     "name": "stdout",
     "output_type": "stream",
     "text": [
      "[34, 12, 35, 56, 78, 89, 23, 45, 1, 'sandy', 'shankar', 'rowdy'] <class 'list'>\n",
      "[34, 12, 35, 56, 78, 89, 23, 45, 1, 'sandy', 'shankar', 'rowdy']\n",
      "[34, 12, 35, 56, 78, 89, 23, 45, 1, 'sandy', 'shankar', 'rowdy', 'prasad']\n",
      "[34, 12, 35, 56, 78, 89, 23, 45, 1, 'sandy', 'shankar', 'rowdy']\n",
      "[34, 12, 35, 56, 78, 89, 23, 45, 1, 'sandy', 'shankar', 'rowdy', 'prasad']\n",
      "[34, 12, 35, 56, 78, 89, 23, 45, 1, 'sandy', 'shankar', 'rowdy', 'kumar']\n"
     ]
    }
   ],
   "source": [
    "n= [34,12,35,56,78,89,23,45,1,\"sandy\",\"shankar\",\"rowdy\"]\n",
    "b= n.copy()\n",
    "print(b,type(b))\n",
    "print(n)\n",
    "n.append(\"prasad\")\n",
    "print(n)\n",
    "print(b)\n",
    "b.append(\"kumar\")\n",
    "print(n)\n",
    "print(b)"
   ]
  },
  {
   "cell_type": "code",
   "execution_count": 26,
   "id": "a890e8b9",
   "metadata": {},
   "outputs": [
    {
     "name": "stdout",
     "output_type": "stream",
     "text": [
      "34\n",
      "12\n",
      "35\n",
      "56\n",
      "78\n",
      "89\n",
      "23\n",
      "45\n",
      "1\n",
      "sandy\n",
      "shankar\n",
      "rowdy\n"
     ]
    }
   ],
   "source": [
    "p= [34,12,35,56,78,89,23,45,1,\"sandy\",\"shankar\",\"rowdy\"]\n",
    "for n in p:\n",
    "    print(n)"
   ]
  },
  {
   "cell_type": "code",
   "execution_count": 27,
   "id": "3498d68e",
   "metadata": {},
   "outputs": [
    {
     "name": "stdout",
     "output_type": "stream",
     "text": [
      "0\n",
      "34\n",
      "12\n",
      "35\n",
      "56\n",
      "78\n",
      "89\n",
      "23\n",
      "45\n",
      "1\n",
      "sandy\n",
      "shankar\n",
      "rowdy\n"
     ]
    }
   ],
   "source": [
    "p= [34,12,35,56,78,89,23,45,1,\"sandy\",\"shankar\",\"rowdy\"]\n",
    "print(p.count(11))\n",
    "for n in p:\n",
    "    print(n)"
   ]
  },
  {
   "cell_type": "code",
   "execution_count": 28,
   "id": "6b17e19b",
   "metadata": {},
   "outputs": [
    {
     "name": "stdout",
     "output_type": "stream",
     "text": [
      "34 count is: 1\n",
      "12 count is: 1\n",
      "35 count is: 1\n",
      "56 count is: 1\n",
      "78 count is: 1\n",
      "89 count is: 1\n",
      "23 count is: 1\n",
      "45 count is: 1\n",
      "1 count is: 1\n",
      "sandy count is: 1\n",
      "shankar count is: 1\n",
      "rowdy count is: 1\n"
     ]
    }
   ],
   "source": [
    "p= [34,12,35,56,78,89,23,45,1,\"sandy\",\"shankar\",\"rowdy\"]\n",
    "for n in p:\n",
    "    print(\"{} count is: {}\".format(n,p.count(n)))"
   ]
  },
  {
   "cell_type": "code",
   "execution_count": 29,
   "id": "ddb29dbf",
   "metadata": {},
   "outputs": [
    {
     "name": "stdout",
     "output_type": "stream",
     "text": [
      "1\n",
      "34\n",
      "12\n",
      "35\n",
      "56\n",
      "78\n",
      "89\n",
      "23\n",
      "45\n",
      "1\n",
      "sandy\n",
      "shankar\n",
      "rowdy\n"
     ]
    }
   ],
   "source": [
    "p= [34,12,35,56,78,89,23,45,1,\"sandy\",\"shankar\",\"rowdy\"]\n",
    "print(p.count(34))\n",
    "for n in p:\n",
    "    print(n)"
   ]
  },
  {
   "cell_type": "code",
   "execution_count": 30,
   "id": "d86e0781",
   "metadata": {},
   "outputs": [
    {
     "name": "stdout",
     "output_type": "stream",
     "text": [
      "rowdy count is: 1\n"
     ]
    }
   ],
   "source": [
    "print(\"{} count is: {}\".format(n,p.count(n)))"
   ]
  },
  {
   "cell_type": "code",
   "execution_count": 32,
   "id": "037de016",
   "metadata": {},
   "outputs": [
    {
     "name": "stdout",
     "output_type": "stream",
     "text": [
      "[34, 12, 35, 56, 78, 89, 23, 45, 1, 'sandy', 'shankar', 'rowdy', 'sandee', 'dad', 'mom']\n",
      "['sandee', 'dad', 'mom']\n"
     ]
    }
   ],
   "source": [
    "p= [34,12,35,56,78,89,23,45,1,\"sandy\",\"shankar\",\"rowdy\"]\n",
    "n =[\"sandee\",\"dad\",\"mom\"]\n",
    "p.extend(n)\n",
    "print(p)\n",
    "print(n)"
   ]
  },
  {
   "cell_type": "code",
   "execution_count": 44,
   "id": "3ee53179",
   "metadata": {},
   "outputs": [
    {
     "name": "stdout",
     "output_type": "stream",
     "text": [
      "[34, 12, 35, 56, 78, 89, 23, 45, 1, 'sandy', 'shankar', 'rowdy', 'sandee', 'dad', 'mom', 67]\n",
      "['sandee', 'dad', 'mom', 67]\n",
      "[34, 12, 35, 56, 78, 89, 23, 45, 1, 'sandy', 'shankar', 'rowdy', 'sandee', 'dad', 'mom', 67]\n",
      "['sandee', 'dad', 'mom', 67]\n"
     ]
    }
   ],
   "source": [
    "p = [34,12,35,56,78,89,23,45,1,\"sandy\",\"shankar\",\"rowdy\"]\n",
    "n =[\"sandee\",\"dad\",\"mom\",67]\n",
    "p.extend(n)\n",
    "print(p)\n",
    "print(n)\n",
    "b.append(200)\n",
    "print(p)\n",
    "print(n)"
   ]
  },
  {
   "cell_type": "code",
   "execution_count": 49,
   "id": "e2e10c65",
   "metadata": {},
   "outputs": [
    {
     "data": {
      "text/plain": [
       "5"
      ]
     },
     "execution_count": 49,
     "metadata": {},
     "output_type": "execute_result"
    }
   ],
   "source": [
    "p.index(89)"
   ]
  },
  {
   "cell_type": "code",
   "execution_count": 53,
   "id": "e51f87a4",
   "metadata": {},
   "outputs": [
    {
     "ename": "AttributeError",
     "evalue": "'tuple' object has no attribute 'insert'",
     "output_type": "error",
     "traceback": [
      "\u001b[1;31m---------------------------------------------------------------------------\u001b[0m",
      "\u001b[1;31mAttributeError\u001b[0m                            Traceback (most recent call last)",
      "\u001b[1;32m<ipython-input-53-714b4a32ef8a>\u001b[0m in \u001b[0;36m<module>\u001b[1;34m\u001b[0m\n\u001b[0;32m      1\u001b[0m \u001b[0mp\u001b[0m \u001b[1;33m=\u001b[0m \u001b[1;33m(\u001b[0m\u001b[1;36m34\u001b[0m\u001b[1;33m,\u001b[0m\u001b[1;36m12\u001b[0m\u001b[1;33m,\u001b[0m\u001b[1;36m35\u001b[0m\u001b[1;33m,\u001b[0m\u001b[1;36m56\u001b[0m\u001b[1;33m,\u001b[0m\u001b[1;36m78\u001b[0m\u001b[1;33m,\u001b[0m\u001b[1;36m89\u001b[0m\u001b[1;33m,\u001b[0m\u001b[1;36m23\u001b[0m\u001b[1;33m,\u001b[0m\u001b[1;36m45\u001b[0m\u001b[1;33m,\u001b[0m\u001b[1;36m1\u001b[0m\u001b[1;33m,\u001b[0m\u001b[1;34m\"sandy\"\u001b[0m\u001b[1;33m,\u001b[0m\u001b[1;34m\"shankar\"\u001b[0m\u001b[1;33m,\u001b[0m\u001b[1;34m\"rowdy\"\u001b[0m\u001b[1;33m)\u001b[0m\u001b[1;33m\u001b[0m\u001b[1;33m\u001b[0m\u001b[0m\n\u001b[1;32m----> 2\u001b[1;33m \u001b[0mp\u001b[0m\u001b[1;33m.\u001b[0m\u001b[0minsert\u001b[0m\u001b[1;33m(\u001b[0m\u001b[1;36m23\u001b[0m\u001b[1;33m,\u001b[0m\u001b[1;36m34\u001b[0m\u001b[1;33m,\u001b[0m\u001b[1;36m46\u001b[0m\u001b[1;33m)\u001b[0m\u001b[1;33m\u001b[0m\u001b[1;33m\u001b[0m\u001b[0m\n\u001b[0m\u001b[0;32m      3\u001b[0m \u001b[0mprint\u001b[0m\u001b[1;33m(\u001b[0m\u001b[0mp\u001b[0m\u001b[1;33m)\u001b[0m\u001b[1;33m\u001b[0m\u001b[1;33m\u001b[0m\u001b[0m\n",
      "\u001b[1;31mAttributeError\u001b[0m: 'tuple' object has no attribute 'insert'"
     ]
    }
   ],
   "source": [
    "p = (34,12,35,56,78,89,23,45,1,\"sandy\",\"shankar\",\"rowdy\")\n",
    "p.insert(23,34,46)\n",
    "print(p)\n"
   ]
  },
  {
   "cell_type": "code",
   "execution_count": 54,
   "id": "f86f6ec6",
   "metadata": {},
   "outputs": [
    {
     "name": "stdout",
     "output_type": "stream",
     "text": [
      "[34, 12, 35, 56, 78, 89, 23, 45, 1, 'sandy', 'shankar', 'rowdy']\n"
     ]
    }
   ],
   "source": [
    "p= [34,12,35,56,78,89,23,45,1,\"sandy\",\"shankar\",\"rowdy\"]\n",
    "print(p)"
   ]
  },
  {
   "cell_type": "code",
   "execution_count": 56,
   "id": "49f8c5b7",
   "metadata": {},
   "outputs": [
    {
     "name": "stdout",
     "output_type": "stream",
     "text": [
      "[34, 12, 35, 56, 78, 89, 23, 45, 1, 'sandy', 'shankar', 'rowdy']\n",
      "[34, 35, 56, 78, 89, 23, 45, 1, 'sandy', 'shankar', 'rowdy']\n"
     ]
    }
   ],
   "source": [
    "print(p)\n",
    "p.remove(12)\n",
    "print(p)"
   ]
  },
  {
   "cell_type": "code",
   "execution_count": 57,
   "id": "0eda5f15",
   "metadata": {},
   "outputs": [
    {
     "name": "stdout",
     "output_type": "stream",
     "text": [
      "[34, 35, 56, 78, 89, 23, 45, 1, 'sandy', 'shankar', 'rowdy']\n",
      "['rowdy', 'shankar', 'sandy', 1, 45, 23, 89, 78, 56, 35, 34]\n"
     ]
    }
   ],
   "source": [
    "print(p)\n",
    "p.reverse()\n",
    "print(p)"
   ]
  },
  {
   "cell_type": "code",
   "execution_count": 58,
   "id": "50309656",
   "metadata": {},
   "outputs": [
    {
     "name": "stdout",
     "output_type": "stream",
     "text": [
      "['rowdy', 'shankar', 'sandy', 1, 45, 23, 89, 78, 56, 35, 34]\n"
     ]
    },
    {
     "ename": "TypeError",
     "evalue": "'<' not supported between instances of 'int' and 'str'",
     "output_type": "error",
     "traceback": [
      "\u001b[1;31m---------------------------------------------------------------------------\u001b[0m",
      "\u001b[1;31mTypeError\u001b[0m                                 Traceback (most recent call last)",
      "\u001b[1;32m<ipython-input-58-aa178ebdd7cf>\u001b[0m in \u001b[0;36m<module>\u001b[1;34m\u001b[0m\n\u001b[0;32m      1\u001b[0m \u001b[0mprint\u001b[0m\u001b[1;33m(\u001b[0m\u001b[0mp\u001b[0m\u001b[1;33m)\u001b[0m\u001b[1;33m\u001b[0m\u001b[1;33m\u001b[0m\u001b[0m\n\u001b[1;32m----> 2\u001b[1;33m \u001b[0mp\u001b[0m\u001b[1;33m.\u001b[0m\u001b[0msort\u001b[0m\u001b[1;33m(\u001b[0m\u001b[1;33m)\u001b[0m\u001b[1;33m\u001b[0m\u001b[1;33m\u001b[0m\u001b[0m\n\u001b[0m\u001b[0;32m      3\u001b[0m \u001b[0mprint\u001b[0m\u001b[1;33m(\u001b[0m\u001b[0mp\u001b[0m\u001b[1;33m)\u001b[0m\u001b[1;33m\u001b[0m\u001b[1;33m\u001b[0m\u001b[0m\n",
      "\u001b[1;31mTypeError\u001b[0m: '<' not supported between instances of 'int' and 'str'"
     ]
    }
   ],
   "source": [
    "print(p)\n",
    "p.sort()\n",
    "print(p)"
   ]
  },
  {
   "cell_type": "code",
   "execution_count": 59,
   "id": "c232a77c",
   "metadata": {},
   "outputs": [
    {
     "name": "stdout",
     "output_type": "stream",
     "text": [
      "(4, 35, 56, 78, 89, 23, 45, 1)\n"
     ]
    },
    {
     "ename": "AttributeError",
     "evalue": "'tuple' object has no attribute 'sort'",
     "output_type": "error",
     "traceback": [
      "\u001b[1;31m---------------------------------------------------------------------------\u001b[0m",
      "\u001b[1;31mAttributeError\u001b[0m                            Traceback (most recent call last)",
      "\u001b[1;32m<ipython-input-59-c3d8b322f8c2>\u001b[0m in \u001b[0;36m<module>\u001b[1;34m\u001b[0m\n\u001b[0;32m      1\u001b[0m \u001b[0mn\u001b[0m\u001b[1;33m=\u001b[0m\u001b[1;33m(\u001b[0m\u001b[1;36m4\u001b[0m\u001b[1;33m,\u001b[0m \u001b[1;36m35\u001b[0m\u001b[1;33m,\u001b[0m \u001b[1;36m56\u001b[0m\u001b[1;33m,\u001b[0m \u001b[1;36m78\u001b[0m\u001b[1;33m,\u001b[0m \u001b[1;36m89\u001b[0m\u001b[1;33m,\u001b[0m \u001b[1;36m23\u001b[0m\u001b[1;33m,\u001b[0m \u001b[1;36m45\u001b[0m\u001b[1;33m,\u001b[0m \u001b[1;36m1\u001b[0m\u001b[1;33m)\u001b[0m\u001b[1;33m\u001b[0m\u001b[1;33m\u001b[0m\u001b[0m\n\u001b[0;32m      2\u001b[0m \u001b[0mprint\u001b[0m\u001b[1;33m(\u001b[0m\u001b[0mn\u001b[0m\u001b[1;33m)\u001b[0m\u001b[1;33m\u001b[0m\u001b[1;33m\u001b[0m\u001b[0m\n\u001b[1;32m----> 3\u001b[1;33m \u001b[0mn\u001b[0m\u001b[1;33m.\u001b[0m\u001b[0msort\u001b[0m\u001b[1;33m(\u001b[0m\u001b[1;33m)\u001b[0m\u001b[1;33m\u001b[0m\u001b[1;33m\u001b[0m\u001b[0m\n\u001b[0m\u001b[0;32m      4\u001b[0m \u001b[0mprint\u001b[0m\u001b[1;33m(\u001b[0m\u001b[0mp\u001b[0m\u001b[1;33m)\u001b[0m\u001b[1;33m\u001b[0m\u001b[1;33m\u001b[0m\u001b[0m\n",
      "\u001b[1;31mAttributeError\u001b[0m: 'tuple' object has no attribute 'sort'"
     ]
    }
   ],
   "source": [
    "n=(4, 35, 56, 78, 89, 23, 45, 1)\n",
    "print(n)\n",
    "n.sort()\n",
    "print(p)\n"
   ]
  },
  {
   "cell_type": "code",
   "execution_count": 61,
   "id": "69595f42",
   "metadata": {},
   "outputs": [
    {
     "name": "stdout",
     "output_type": "stream",
     "text": [
      "[23, 45, 67, 89, 12, 43, 65, 87]\n",
      "['rowdy', 'sandy', 'shankar', 1, 45, 23, 89, 78, 56, 35, 34]\n"
     ]
    }
   ],
   "source": [
    "m=[23,45,67,89,12,43,65,87]\n",
    "print(m)\n",
    "m.sort()\n",
    "print(p)"
   ]
  },
  {
   "cell_type": "code",
   "execution_count": 62,
   "id": "2a6dde03",
   "metadata": {},
   "outputs": [
    {
     "ename": "NameError",
     "evalue": "name 'list__doc__' is not defined",
     "output_type": "error",
     "traceback": [
      "\u001b[1;31m---------------------------------------------------------------------------\u001b[0m",
      "\u001b[1;31mNameError\u001b[0m                                 Traceback (most recent call last)",
      "\u001b[1;32m<ipython-input-62-60e67a8bf966>\u001b[0m in \u001b[0;36m<module>\u001b[1;34m\u001b[0m\n\u001b[1;32m----> 1\u001b[1;33m \u001b[0mprint\u001b[0m\u001b[1;33m(\u001b[0m\u001b[0mlist__doc__\u001b[0m\u001b[1;33m)\u001b[0m\u001b[1;33m\u001b[0m\u001b[1;33m\u001b[0m\u001b[0m\n\u001b[0m",
      "\u001b[1;31mNameError\u001b[0m: name 'list__doc__' is not defined"
     ]
    }
   ],
   "source": [
    "print(list__doc__)"
   ]
  },
  {
   "cell_type": "code",
   "execution_count": 63,
   "id": "84614f46",
   "metadata": {},
   "outputs": [
    {
     "data": {
      "text/plain": [
       "[12, 23, 43, 45, 65, 67, 87, 89]"
      ]
     },
     "execution_count": 63,
     "metadata": {},
     "output_type": "execute_result"
    }
   ],
   "source": [
    "sorted(m)"
   ]
  },
  {
   "cell_type": "code",
   "execution_count": 64,
   "id": "80566e6e",
   "metadata": {},
   "outputs": [
    {
     "data": {
      "text/plain": [
       "[1, 4, 23, 35, 45, 56, 78, 89]"
      ]
     },
     "execution_count": 64,
     "metadata": {},
     "output_type": "execute_result"
    }
   ],
   "source": [
    "sorted(n)"
   ]
  },
  {
   "cell_type": "code",
   "execution_count": 65,
   "id": "8ade5ab7",
   "metadata": {},
   "outputs": [
    {
     "ename": "TypeError",
     "evalue": "'<' not supported between instances of 'str' and 'int'",
     "output_type": "error",
     "traceback": [
      "\u001b[1;31m---------------------------------------------------------------------------\u001b[0m",
      "\u001b[1;31mTypeError\u001b[0m                                 Traceback (most recent call last)",
      "\u001b[1;32m<ipython-input-65-eda6216e28ed>\u001b[0m in \u001b[0;36m<module>\u001b[1;34m\u001b[0m\n\u001b[1;32m----> 1\u001b[1;33m \u001b[0msorted\u001b[0m\u001b[1;33m(\u001b[0m\u001b[0mk\u001b[0m\u001b[1;33m)\u001b[0m\u001b[1;33m\u001b[0m\u001b[1;33m\u001b[0m\u001b[0m\n\u001b[0m",
      "\u001b[1;31mTypeError\u001b[0m: '<' not supported between instances of 'str' and 'int'"
     ]
    }
   ],
   "source": [
    "sorted(k)"
   ]
  },
  {
   "cell_type": "code",
   "execution_count": 66,
   "id": "4549a802",
   "metadata": {},
   "outputs": [
    {
     "data": {
      "text/plain": [
       "[1, 4, 23, 35, 45, 56, 78, 89]"
      ]
     },
     "execution_count": 66,
     "metadata": {},
     "output_type": "execute_result"
    }
   ],
   "source": [
    "sorted(n)"
   ]
  },
  {
   "cell_type": "code",
   "execution_count": 68,
   "id": "a16ed1fe",
   "metadata": {},
   "outputs": [
    {
     "name": "stdout",
     "output_type": "stream",
     "text": [
      "(12, 23, 43, 45, 65, 67, 87, 89) <class 'tuple'>\n"
     ]
    }
   ],
   "source": [
    "s=(12, 23, 43, 45, 65, 67, 87, 89)\n",
    "print(s,type(s))"
   ]
  },
  {
   "cell_type": "code",
   "execution_count": 69,
   "id": "f425f312",
   "metadata": {},
   "outputs": [
    {
     "name": "stdout",
     "output_type": "stream",
     "text": [
      "['__add__', '__class__', '__class_getitem__', '__contains__', '__delattr__', '__dir__', '__doc__', '__eq__', '__format__', '__ge__', '__getattribute__', '__getitem__', '__getnewargs__', '__gt__', '__hash__', '__init__', '__init_subclass__', '__iter__', '__le__', '__len__', '__lt__', '__mul__', '__ne__', '__new__', '__reduce__', '__reduce_ex__', '__repr__', '__rmul__', '__setattr__', '__sizeof__', '__str__', '__subclasshook__', 'count', 'index']\n"
     ]
    }
   ],
   "source": [
    "print(dir(tuple))"
   ]
  },
  {
   "cell_type": "code",
   "execution_count": null,
   "id": "bb3098fc",
   "metadata": {},
   "outputs": [],
   "source": [
    "-"
   ]
  }
 ],
 "metadata": {
  "kernelspec": {
   "display_name": "Python 3",
   "language": "python",
   "name": "python3"
  },
  "language_info": {
   "codemirror_mode": {
    "name": "ipython",
    "version": 3
   },
   "file_extension": ".py",
   "mimetype": "text/x-python",
   "name": "python",
   "nbconvert_exporter": "python",
   "pygments_lexer": "ipython3",
   "version": "3.9.5"
  }
 },
 "nbformat": 4,
 "nbformat_minor": 5
}
